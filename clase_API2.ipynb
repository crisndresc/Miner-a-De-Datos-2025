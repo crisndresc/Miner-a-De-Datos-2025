{
 "cells": [
  {
   "cell_type": "markdown",
   "metadata": {},
   "source": [
    "# API\n",
    "\n",
    "## Listas\n",
    "\n",
    "- Se definen como:\n",
    "    - `lista = [\"a\", \"b\", \"c\"]`"
   ]
  },
  {
   "cell_type": "code",
   "execution_count": 3,
   "metadata": {},
   "outputs": [
    {
     "name": "stdout",
     "output_type": "stream",
     "text": [
      "Indice iterado:  0\n",
      "Elemento iterado:  1\n",
      "Indice iterado:  1\n",
      "Elemento iterado:  gato\n",
      "Indice iterado:  2\n",
      "Elemento iterado:  40\n"
     ]
    }
   ],
   "source": [
    "for index, element in enumerate([\"1\", \"gato\", 40]): #se trae el indice. 0,1,2 y la letra\n",
    "    print(\"Indice iterado: \", index)\n",
    "    print(\"Elemento iterado: \", element)\n",
    "    "
   ]
  },
  {
   "cell_type": "code",
   "execution_count": null,
   "metadata": {},
   "outputs": [],
   "source": [
    "import pandas as pd\n",
    "import numpy as np\n",
    "import json\n",
    "import requests"
   ]
  },
  {
   "cell_type": "code",
   "execution_count": 5,
   "metadata": {},
   "outputs": [
    {
     "data": {
      "text/plain": [
       "'hola'"
      ]
     },
     "execution_count": 5,
     "metadata": {},
     "output_type": "execute_result"
    }
   ],
   "source": [
    "# En una lista usamos la posición para acceder a un elemento, y los índices se generan en forma implícita\n",
    "lista = [25, 31, \"hola\"]\n",
    "lista[2]  # \"hola\""
   ]
  },
  {
   "cell_type": "code",
   "execution_count": 5,
   "metadata": {},
   "outputs": [
    {
     "data": {
      "text/plain": [
       "'hola'"
      ]
     },
     "execution_count": 5,
     "metadata": {},
     "output_type": "execute_result"
    }
   ],
   "source": [
    "# En un diccionario usamos la clave, y se deben definir de forma explícita\n",
    "diccionario = {\"a\": 25, \"b\": 31, \"c\": \"hola\"}\n",
    "diccionario[\"c\"]  # \"hola\""
   ]
  },
  {
   "cell_type": "code",
   "execution_count": 6,
   "metadata": {},
   "outputs": [],
   "source": [
    "notas = {\"Camila\": 7, \"Antonio\": 5, \"Felipe\": 6, \"Antonia\": 7}"
   ]
  },
  {
   "cell_type": "code",
   "execution_count": 7,
   "metadata": {},
   "outputs": [
    {
     "data": {
      "text/plain": [
       "{'Camila': 7, 'Antonio': 5, 'Felipe': 6, 'Antonia': 7}"
      ]
     },
     "execution_count": 7,
     "metadata": {},
     "output_type": "execute_result"
    }
   ],
   "source": [
    "notas"
   ]
  },
  {
   "cell_type": "code",
   "execution_count": 8,
   "metadata": {},
   "outputs": [],
   "source": [
    "notas = {\n",
    "    \"Camila\": 7,\n",
    "    \"Antonio\": 5,\n",
    "    \"Felipe\": 6,\n",
    "    \"Daniela\": 5,\n",
    "    \"Vicente\": 7,\n",
    "}"
   ]
  },
  {
   "cell_type": "code",
   "execution_count": 9,
   "metadata": {},
   "outputs": [
    {
     "data": {
      "text/plain": [
       "6"
      ]
     },
     "execution_count": 9,
     "metadata": {},
     "output_type": "execute_result"
    }
   ],
   "source": [
    "notas[\"Felipe\"]  # 6"
   ]
  },
  {
   "cell_type": "code",
   "execution_count": 11,
   "metadata": {},
   "outputs": [
    {
     "ename": "KeyError",
     "evalue": "'felipe'",
     "output_type": "error",
     "traceback": [
      "\u001b[1;31m---------------------------------------------------------------------------\u001b[0m",
      "\u001b[1;31mKeyError\u001b[0m                                  Traceback (most recent call last)",
      "Cell \u001b[1;32mIn[11], line 1\u001b[0m\n\u001b[1;32m----> 1\u001b[0m notas[\u001b[38;5;124m\"\u001b[39m\u001b[38;5;124mfelipe\u001b[39m\u001b[38;5;124m\"\u001b[39m]\n",
      "\u001b[1;31mKeyError\u001b[0m: 'felipe'"
     ]
    }
   ],
   "source": [
    "notas[\"felipe\"]  # KeyError: 'felipe' es 'Felipe'"
   ]
  },
  {
   "cell_type": "code",
   "execution_count": 12,
   "metadata": {},
   "outputs": [
    {
     "data": {
      "text/plain": [
       "{'clave': 2}"
      ]
     },
     "execution_count": 12,
     "metadata": {},
     "output_type": "execute_result"
    }
   ],
   "source": [
    "duplicados = {\"clave\": 1, \"clave\": 2}\n",
    "duplicados  # {\"clave\": 2}"
   ]
  },
  {
   "cell_type": "code",
   "execution_count": 13,
   "metadata": {},
   "outputs": [],
   "source": [
    "diccionario = {\"llave 1\": 5}"
   ]
  },
  {
   "cell_type": "code",
   "execution_count": 14,
   "metadata": {},
   "outputs": [
    {
     "data": {
      "text/plain": [
       "{'llave 1': 5, 'llave 2': 9}"
      ]
     },
     "execution_count": 14,
     "metadata": {},
     "output_type": "execute_result"
    }
   ],
   "source": [
    "diccionario[\"llave 2\"] = 9\n",
    "diccionario  # {\"llave 1\": 5, \"llave 2\": 9}"
   ]
  },
  {
   "cell_type": "code",
   "execution_count": 15,
   "metadata": {},
   "outputs": [
    {
     "data": {
      "text/plain": [
       "{'llave 1': 5, 'llave 2': 9}"
      ]
     },
     "execution_count": 15,
     "metadata": {},
     "output_type": "execute_result"
    }
   ],
   "source": [
    "diccionario = {\"llave 1\": 5, \"llave 2\": 7}\n",
    "diccionario[\"llave 2\"] = 9\n",
    "diccionario "
   ]
  },
  {
   "cell_type": "code",
   "execution_count": 16,
   "metadata": {},
   "outputs": [
    {
     "name": "stdout",
     "output_type": "stream",
     "text": [
      "Esta clave es: nombre\n",
      "Esta clave es: apellido\n",
      "Esta clave es: edad\n",
      "Esta clave es: altura\n"
     ]
    }
   ],
   "source": [
    "diccionario = {\"nombre\": \"Juan\",\n",
    "               \"apellido\": \"Pérez\", \"edad\": 33, \"altura\": 1.75}\n",
    "\n",
    "for clave in diccionario:\n",
    "    print(\"Esta clave es: {}\".format(clave))"
   ]
  },
  {
   "cell_type": "code",
   "execution_count": 17,
   "metadata": {},
   "outputs": [
    {
     "name": "stdout",
     "output_type": "stream",
     "text": [
      "La clave es nombre y el valor es Juan\n",
      "La clave es apellido y el valor es Pérez\n",
      "La clave es edad y el valor es 33\n",
      "La clave es altura y el valor es 1.75\n"
     ]
    }
   ],
   "source": [
    "diccionario = {\"nombre\": \"Juan\",\n",
    "               \"apellido\": \"Pérez\", \"edad\": 33, \"altura\": 1.75}\n",
    "\n",
    "for clave in diccionario:\n",
    "    valor = diccionario[clave]\n",
    "    print(\"La clave es {} y el valor es {}\".format(clave, valor))"
   ]
  },
  {
   "cell_type": "code",
   "execution_count": 19,
   "metadata": {},
   "outputs": [
    {
     "name": "stdout",
     "output_type": "stream",
     "text": [
      "La clave 'nombre' está en el diccionario\n",
      "La clave 'peso' no está en el diccionario\n"
     ]
    }
   ],
   "source": [
    "if \"nombre\" in diccionario:\n",
    "    print(\"La clave 'nombre' está en el diccionario\")\n",
    "else:\n",
    "    print(\"La clave 'nombre' no está en el diccionario\")\n",
    "if \"peso\" in diccionario:\n",
    "    print(\"La clave 'peso' está en el diccionario\")\n",
    "else:\n",
    "    print(\"La clave 'peso' no está en el diccionario\")"
   ]
  },
  {
   "cell_type": "code",
   "execution_count": 20,
   "metadata": {},
   "outputs": [
    {
     "name": "stdout",
     "output_type": "stream",
     "text": [
      "La clave es nombre y el valor es Juan\n",
      "La clave es apellido y el valor es Pérez\n",
      "La clave es edad y el valor es 33\n",
      "La clave es altura y el valor es 1.75\n"
     ]
    }
   ],
   "source": [
    "for clave, valor in diccionario.items():\n",
    "    print(\"La clave es {} y el valor es {}\".format(clave, valor))"
   ]
  },
  {
   "cell_type": "code",
   "execution_count": 21,
   "metadata": {},
   "outputs": [],
   "source": [
    "usuarios_por_pais = {\n",
    "    \"México\": 65,\n",
    "    \"Chile\": 50,\n",
    "    \"Argentina\": 55,\n",
    "}"
   ]
  },
  {
   "cell_type": "code",
   "execution_count": 22,
   "metadata": {},
   "outputs": [
    {
     "name": "stdout",
     "output_type": "stream",
     "text": [
      "México\n",
      "Chile\n",
      "Argentina\n"
     ]
    }
   ],
   "source": [
    "# Mostrar solo los países\n",
    "for pais in usuarios_por_pais:\n",
    "    print(pais)"
   ]
  },
  {
   "cell_type": "code",
   "execution_count": 23,
   "metadata": {},
   "outputs": [
    {
     "name": "stdout",
     "output_type": "stream",
     "text": [
      "México\n"
     ]
    }
   ],
   "source": [
    "# Mostrar solo los países con más de 60 usuarios\n",
    "for pais, usuarios in usuarios_por_pais.items():\n",
    "    if usuarios > 60:\n",
    "        print(pais)"
   ]
  },
  {
   "cell_type": "code",
   "execution_count": 24,
   "metadata": {},
   "outputs": [],
   "source": [
    "ventas_mensuales = {\n",
    "    \"Octubre\": 65000,\n",
    "    \"Noviembre\": 68000,\n",
    "    \"Diciembre\": 72000,\n",
    "}"
   ]
  },
  {
   "cell_type": "code",
   "execution_count": 26,
   "metadata": {},
   "outputs": [
    {
     "name": "stdout",
     "output_type": "stream",
     "text": [
      "{'Octubre': 78650.0, 'Noviembre': 82280.0, 'Diciembre': 87120.0}\n"
     ]
    }
   ],
   "source": [
    "for mes, venta in ventas_mensuales.items():\n",
    "    ventas_mensuales[mes] = venta * 1.1#guardar\n",
    "print(ventas_mensuales)"
   ]
  },
  {
   "cell_type": "code",
   "execution_count": 28,
   "metadata": {},
   "outputs": [
    {
     "name": "stdout",
     "output_type": "stream",
     "text": [
      "{'Octubre': 52000.0, 'Noviembre': 54400.0, 'Diciembre': 57600.0}\n",
      "{'Octubre': 65000, 'Noviembre': 68000, 'Diciembre': 72000}\n"
     ]
    }
   ],
   "source": [
    "ventas_mensuales = {\n",
    "    \"Octubre\": 65000,\n",
    "    \"Noviembre\": 68000,\n",
    "    \"Diciembre\": 72000,\n",
    "}\n",
    "\n",
    "nuevas_ventas_mensuales = {}\n",
    "\n",
    "for mes, venta in ventas_mensuales.items():\n",
    "    nuevas_ventas_mensuales[mes] = venta * 0.8 #pasa claves y valores a cada uno\n",
    "\n",
    "print(nuevas_ventas_mensuales)\n",
    "print(ventas_mensuales)"
   ]
  },
  {
   "cell_type": "code",
   "execution_count": 29,
   "metadata": {},
   "outputs": [],
   "source": [
    "ventas_mensuales = {\n",
    "    \"Octubre\": 65000,\n",
    "    \"Noviembre\": 68000,\n",
    "    \"Diciembre\": 72000,\n",
    "}"
   ]
  },
  {
   "cell_type": "code",
   "execution_count": 30,
   "metadata": {},
   "outputs": [
    {
     "name": "stdout",
     "output_type": "stream",
     "text": [
      "{'Diciembre': 72000}\n"
     ]
    }
   ],
   "source": [
    "def filtrar_valores_altos(diccionario):\n",
    "    diccionario_filtrado = {}\n",
    "    for clave, valor in diccionario.items():\n",
    "        if valor > 70000:\n",
    "            diccionario_filtrado[clave] = valor\n",
    "    return diccionario_filtrado\n",
    "\n",
    "\n",
    "print(filtrar_valores_altos(ventas_mensuales))"
   ]
  },
  {
   "cell_type": "code",
   "execution_count": 31,
   "metadata": {},
   "outputs": [],
   "source": [
    "diccionario_productos = {\"celular\": 140000,\n",
    "                         \"notebook\": 489990, \"tablet\": 120000, \"cargador\": 12400}"
   ]
  },
  {
   "cell_type": "code",
   "execution_count": 32,
   "metadata": {},
   "outputs": [],
   "source": [
    "diccionario = {\"celular\": 140000, \"notebook\": 489990,\n",
    "               \"tablet\": 120000, \"cargador\": 12400}"
   ]
  },
  {
   "cell_type": "code",
   "execution_count": 33,
   "metadata": {},
   "outputs": [
    {
     "name": "stdout",
     "output_type": "stream",
     "text": [
      "{'notebook': 489990, 'tablet': 120000, 'cargador': 12400}\n"
     ]
    }
   ],
   "source": [
    "del diccionario[\"celular\"]\n",
    "print(diccionario)"
   ]
  },
  {
   "cell_type": "code",
   "execution_count": 35,
   "metadata": {},
   "outputs": [
    {
     "name": "stdout",
     "output_type": "stream",
     "text": [
      "{'nombre': 'Alejandra', 'apellido': 'López', 'edad': 33, 'altura': 1.55, 'mascota': 'miti', 'ejercicio': 'bicicleta'}\n"
     ]
    }
   ],
   "source": [
    "diccionario_a = {\"nombre\": \"Alejandra\",\n",
    "                 \"apellido\": \"López\", \"edad\": 33, \"altura\": 1.55}\n",
    "diccionario_b = {\"mascota\": \"miti\", \"ejercicio\": \"bicicleta\"}\n",
    "# Union de diccionario_a y diccionario_b\n",
    "diccionario_a.update(diccionario_b)\n",
    "# Notar que la unión queda en el primer diccionario\n",
    "print(diccionario_a)"
   ]
  },
  {
   "cell_type": "code",
   "execution_count": 36,
   "metadata": {},
   "outputs": [
    {
     "name": "stdout",
     "output_type": "stream",
     "text": [
      "{'nombre': 'Alejandra', 'apellido': 'López', 'edad': 33, 'altura': 155, 'mascota': 'miti', 'ejercicio': 'bicicleta'}\n"
     ]
    }
   ],
   "source": [
    "diccionario_a = {\"nombre\": \"Alejandra\",\n",
    "                 \"apellido\": \"López\", \"edad\": 33, \"altura\": 1.55}\n",
    "diccionario_b = {\"mascota\": \"miti\", \"ejercicio\": \"bicicleta\", \"altura\": 155}\n",
    "# Union de diccionario_a y diccionario_b\n",
    "diccionario_a.update(diccionario_b)\n",
    "# Se sobreescribió el valor de altura por el del diccionario_b\n",
    "print(diccionario_a)"
   ]
  },
  {
   "cell_type": "code",
   "execution_count": 40,
   "metadata": {},
   "outputs": [
    {
     "name": "stdout",
     "output_type": "stream",
     "text": [
      "{'mascota': 'miti', 'ejercicio': 'bicicleta', 'altura': 1.55, 'nombre': 'Alejandra', 'apellido': 'López', 'edad': 33}\n"
     ]
    }
   ],
   "source": [
    "diccionario_a = {\"nombre\": \"Alejandra\",\n",
    "                 \"apellido\": \"López\", \"edad\": 33, \"altura\": 1.55}\n",
    "diccionario_b = {\"mascota\": \"miti\", \"ejercicio\": \"bicicleta\", \"altura\": 155}\n",
    "diccionario_b.update(diccionario_a)\n",
    "print(diccionario_b)"
   ]
  },
  {
   "cell_type": "code",
   "execution_count": 48,
   "metadata": {},
   "outputs": [
    {
     "data": {
      "text/plain": [
       "'red'"
      ]
     },
     "execution_count": 48,
     "metadata": {},
     "output_type": "execute_result"
    }
   ],
   "source": [
    "colors = {\n",
    "    \"red\": \"#cc0000\",\n",
    "    \"green\": \"#00cc00\",\n",
    "    \"blue\": \"#0000cc\",\n",
    "}\n",
    "colors_inv = {v: k for k, v in colors.items()} #diccionario comrpesion, for en una linea for, invierte las claves y valores\n",
    "colors_inv[\"#cc0000\"]  # red"
   ]
  },
  {
   "cell_type": "code",
   "execution_count": 49,
   "metadata": {},
   "outputs": [
    {
     "data": {
      "text/plain": [
       "dict_keys(['red', 'green', 'blue'])"
      ]
     },
     "execution_count": 49,
     "metadata": {},
     "output_type": "execute_result"
    }
   ],
   "source": [
    "colors = {\n",
    "    \"red\": \"#cc0000\",\n",
    "    \"green\": \"#00cc00\",\n",
    "    \"blue\": \"#0000cc\",\n",
    "}\n",
    "colors.keys()"
   ]
  },
  {
   "cell_type": "code",
   "execution_count": 50,
   "metadata": {},
   "outputs": [
    {
     "data": {
      "text/plain": [
       "dict_values(['#cc0000', '#00cc00', '#0000cc'])"
      ]
     },
     "execution_count": 50,
     "metadata": {},
     "output_type": "execute_result"
    }
   ],
   "source": [
    "colors = {\n",
    "    \"red\": \"#cc0000\",\n",
    "    \"green\": \"#00cc00\",\n",
    "    \"blue\": \"#0000cc\",\n",
    "}\n",
    "colors.values()#invierte clave"
   ]
  },
  {
   "cell_type": "code",
   "execution_count": 52,
   "metadata": {},
   "outputs": [
    {
     "data": {
      "text/plain": [
       "{'k1': 1, 'k2': 2, 'k3': 3}"
      ]
     },
     "execution_count": 52,
     "metadata": {},
     "output_type": "execute_result"
    }
   ],
   "source": [
    "dict(zip([\"k1\", \"k2\", \"k3\"], [1, 2, 3]))#otra forma de diccionario"
   ]
  },
  {
   "cell_type": "code",
   "execution_count": 53,
   "metadata": {},
   "outputs": [],
   "source": [
    "colors = {\n",
    "    \"aliceblue\": \"#f0f8ff\",\n",
    "    \"antiquewhite\": \"#faebd7\",\n",
    "    \"aqua\": \"#00ffff\",\n",
    "    \"aquamarine\": \"#7fffd4\",\n",
    "    \"azure\": \"#f0ffff\",\n",
    "    \"darkorchid\": \"#9932cc\",\n",
    "    \"darkred\": \"#8b0000\",\n",
    "    \"darksalmon\": \"#e9967a\",\n",
    "    \"navajowhite\": \"#ffdead\",\n",
    "    \"navy\": \"#000080\",\n",
    "    \"orchid\": \"#da70d6\",\n",
    "    \"palegoldenrod\": \"#eee8aa\",\n",
    "    \"peachpuff\": \"#ffdab9\",\n",
    "    \"peru\": \"#cd853f\",\n",
    "    \"pink\": \"#ffc0cb\",\n",
    "    \"purple\": \"#800080\",\n",
    "    \"rebeccapurple\": \"#663399\",\n",
    "    \"red\": \"#ff0000\",\n",
    "    \"saddlebrown\": \"#8b4513\",\n",
    "    \"seashell\": \"#fff5ee\",\n",
    "    \"sienna\": \"#a0522d\",\n",
    "    \"silver\": \"#c0c0c0\",\n",
    "    \"skyblue\": \"#87ceeb\",\n",
    "    \"slateblue\": \"#6a5acd\",\n",
    "    \"teal\": \"#008080\",\n",
    "    \"thistle\": \"#d8bfd8\",\n",
    "    \"tomato\": \"#ff6347\",\n",
    "    \"turquoise\": \"#40e0d0\",\n",
    "    \"violet\": \"#ee82ee\",\n",
    "    \"wheat\": \"#f5deb3\",\n",
    "    \"white\": \"#ffffff\",\n",
    "    \"whitesmoke\": \"#f5f5f5\",\n",
    "    \"yellow\": \"#ffff00\",\n",
    "    \"yellowgreen\": \"#9acd32\",\n",
    "}"
   ]
  },
  {
   "cell_type": "code",
   "execution_count": 54,
   "metadata": {},
   "outputs": [
    {
     "name": "stdout",
     "output_type": "stream",
     "text": [
      "slateblue\n"
     ]
    }
   ],
   "source": [
    "# Solucion iterando\n",
    "search = '#6a5acd'\n",
    "for name, hexa in colors.items():\n",
    "    if hexa == search:\n",
    "        print(name)"
   ]
  },
  {
   "cell_type": "code",
   "execution_count": 55,
   "metadata": {},
   "outputs": [
    {
     "name": "stdout",
     "output_type": "stream",
     "text": [
      "no-no\n",
      "no-no\n",
      "no-no\n",
      "no-no\n",
      "no-no\n",
      "no-no\n",
      "no-no\n",
      "no-no\n",
      "no-no\n",
      "no-no\n",
      "no-no\n",
      "no-no\n",
      "no-no\n",
      "no-no\n",
      "no-no\n",
      "no-no\n",
      "no-no\n",
      "no-no\n",
      "no-no\n",
      "no-no\n",
      "no-no\n",
      "no-no\n",
      "no-no\n",
      "slateblue\n",
      "no-no\n",
      "no-no\n",
      "no-no\n",
      "no-no\n",
      "no-no\n",
      "no-no\n",
      "no-no\n",
      "no-no\n",
      "no-no\n",
      "no-no\n"
     ]
    }
   ],
   "source": [
    "search = \"#6a5acd\"\n",
    "for name, hexa in colors.items():\n",
    "    if hexa == search:\n",
    "        print(name)\n",
    "    else:\n",
    "        print(\"no-no\")"
   ]
  },
  {
   "cell_type": "code",
   "execution_count": 60,
   "metadata": {},
   "outputs": [
    {
     "name": "stdout",
     "output_type": "stream",
     "text": [
      "slateblue\n"
     ]
    }
   ],
   "source": [
    "search = \"#6a5acd\"\n",
    "found = False\n",
    "for name, hexa in colors.items():\n",
    "    if hexa == search and found == False:\n",
    "        found = True\n",
    "        print(name)\n",
    "if not found:\n",
    "    print(\"no-no\")"
   ]
  },
  {
   "cell_type": "code",
   "execution_count": 61,
   "metadata": {},
   "outputs": [
    {
     "name": "stdout",
     "output_type": "stream",
     "text": [
      "slateblue\n"
     ]
    }
   ],
   "source": [
    "# Solucion invirtiendo el diccionario y usando in\n",
    "search = \"#6a5acd\"\n",
    "colors_inv = {v: k for k, v in colors.items()} #invertir diciconario\n",
    "if search in colors_inv:\n",
    "    print(colors_inv[search])\n",
    "else:\n",
    "    print(\"no-no\")"
   ]
  },
  {
   "cell_type": "code",
   "execution_count": 62,
   "metadata": {},
   "outputs": [],
   "source": [
    "nombres = [\"Alumno1\", \"Alumno2\", \"Alumno3\"]\n",
    "notas = [10, 3, 8]"
   ]
  },
  {
   "cell_type": "code",
   "execution_count": 63,
   "metadata": {},
   "outputs": [],
   "source": [
    "index = nombres.index('Alumno1')\n",
    "nota_alumno = notas[index]"
   ]
  },
  {
   "cell_type": "code",
   "execution_count": 64,
   "metadata": {},
   "outputs": [
    {
     "name": "stdout",
     "output_type": "stream",
     "text": [
      "10\n"
     ]
    }
   ],
   "source": [
    "notas_por_alumno = {\n",
    "    \"Alumno1\": 10,\n",
    "    \"Alumno2\": 3,\n",
    "    \"Alumno3\": 8,\n",
    "}\n",
    "print(notas_por_alumno[\"Alumno1\"])"
   ]
  },
  {
   "cell_type": "code",
   "execution_count": 65,
   "metadata": {},
   "outputs": [
    {
     "data": {
      "text/plain": [
       "[('k1', 5), ('k2', 7)]"
      ]
     },
     "execution_count": 65,
     "metadata": {},
     "output_type": "execute_result"
    }
   ],
   "source": [
    "list({\"k1\": 5, \"k2\": 7}.items())  # [('k1', 5), ('k2', 7)]"
   ]
  },
  {
   "cell_type": "code",
   "execution_count": 66,
   "metadata": {},
   "outputs": [
    {
     "data": {
      "text/plain": [
       "{'k1': 5, 'k2': 7}"
      ]
     },
     "execution_count": 66,
     "metadata": {},
     "output_type": "execute_result"
    }
   ],
   "source": [
    "dict([('k1', 5), ('k2', 7)])  # {\"k1\": 5, \"k2\": 7}"
   ]
  },
  {
   "cell_type": "code",
   "execution_count": 67,
   "metadata": {},
   "outputs": [],
   "source": [
    "nombres = ['Alumno1', 'Alumno2', 'Alumno3']\n",
    "notas = [10, 3, 8]"
   ]
  },
  {
   "cell_type": "code",
   "execution_count": 68,
   "metadata": {},
   "outputs": [
    {
     "name": "stdout",
     "output_type": "stream",
     "text": [
      "{'Alumno1': 10, 'Alumno2': 3, 'Alumno3': 8}\n"
     ]
    }
   ],
   "source": [
    "nombres = ['Alumno1', 'Alumno2', 'Alumno3']\n",
    "notas = [10, 3, 8]\n",
    "notas_por_alumno = {}\n",
    "for i in range(len(nombres)):\n",
    "    alumno = nombres[i]\n",
    "    nota = notas[i]\n",
    "    notas_por_alumno[alumno] = nota\n",
    "print(notas_por_alumno)"
   ]
  },
  {
   "cell_type": "code",
   "execution_count": 69,
   "metadata": {},
   "outputs": [
    {
     "name": "stdout",
     "output_type": "stream",
     "text": [
      "{'Alumno1': 10, 'Alumno2': 3, 'Alumno3': 8}\n"
     ]
    }
   ],
   "source": [
    "s = [10, 3, 8]\n",
    "notas_por_alumno = {}\n",
    "for alumno in nombres:\n",
    "    i = nombres.index(alumno)  # Obtenemos el indice\n",
    "    alumno = nombres[i]\n",
    "    nota = notas[i]\n",
    "    notas_por_alumno[alumno] = nota\n",
    "print(notas_por_alumno)"
   ]
  },
  {
   "cell_type": "code",
   "execution_count": 70,
   "metadata": {},
   "outputs": [
    {
     "name": "stdout",
     "output_type": "stream",
     "text": [
      "{'Alumno1': 10, 'Alumno2': 3, 'Alumno3': 8}\n"
     ]
    }
   ],
   "source": [
    "nombres = ['Alumno1', 'Alumno2', 'Alumno3']\n",
    "notas = [10, 3, 8]\n",
    "notas_por_alumno = dict(zip(nombres, notas))\n",
    "print(notas_por_alumno)"
   ]
  },
  {
   "cell_type": "code",
   "execution_count": 71,
   "metadata": {},
   "outputs": [],
   "source": [
    "from itertools import groupby"
   ]
  },
  {
   "cell_type": "code",
   "execution_count": 72,
   "metadata": {},
   "outputs": [
    {
     "data": {
      "text/plain": [
       "[('A', ['A', 'A', 'A', 'A']),\n",
       " ('B', ['B', 'B', 'B']),\n",
       " ('C', ['C', 'C']),\n",
       " ('D', ['D']),\n",
       " ('A', ['A', 'A']),\n",
       " ('B', ['B', 'B', 'B'])]"
      ]
     },
     "execution_count": 72,
     "metadata": {},
     "output_type": "execute_result"
    }
   ],
   "source": [
    "[(k, list(g)) for k, g in groupby('AAAABBBCCDAABBB')]"
   ]
  },
  {
   "cell_type": "code",
   "execution_count": 73,
   "metadata": {},
   "outputs": [
    {
     "data": {
      "text/plain": [
       "{'A': 4, 'B': 3, 'C': 2, 'D': 1}"
      ]
     },
     "execution_count": 73,
     "metadata": {},
     "output_type": "execute_result"
    }
   ],
   "source": [
    "{k: len(list(g)) for k, g in groupby('AAAABBBCCD')}"
   ]
  },
  {
   "cell_type": "code",
   "execution_count": 74,
   "metadata": {},
   "outputs": [
    {
     "data": {
      "text/plain": [
       "{4: ['cada'], 1: ['y'], 5: ['todos'], 3: ['uno']}"
      ]
     },
     "execution_count": 74,
     "metadata": {},
     "output_type": "execute_result"
    }
   ],
   "source": [
    "# Agrupar palabras por su largo\n",
    "words = [\"hola\", \"a\", \"todos\", \"y\", \"cada\", \"uno\"]\n",
    "# Luego agrupamos\n",
    "{k: list(v) for k, v in groupby(words, key=len)}"
   ]
  },
  {
   "cell_type": "code",
   "execution_count": 75,
   "metadata": {},
   "outputs": [
    {
     "data": {
      "text/plain": [
       "{1: ['a', 'y'], 3: ['uno'], 4: ['hola', 'cada'], 5: ['todos']}"
      ]
     },
     "execution_count": 75,
     "metadata": {},
     "output_type": "execute_result"
    }
   ],
   "source": [
    "# Primero ordenamos\n",
    "words.sort(key=lambda x: len(x))\n",
    "# Luego agrupamos\n",
    "{k: list(v) for k, v in groupby(words, key=len)}"
   ]
  },
  {
   "cell_type": "code",
   "execution_count": 76,
   "metadata": {},
   "outputs": [
    {
     "data": {
      "text/plain": [
       "[1, 2, 6, 7, 2, 5, 8, 9, 1, 3, 6, 7]"
      ]
     },
     "execution_count": 76,
     "metadata": {},
     "output_type": "execute_result"
    }
   ],
   "source": [
    "[1, 2, 6, 7, 2, 5, 8, 9, 1, 3, 6, 7]"
   ]
  },
  {
   "cell_type": "code",
   "execution_count": 77,
   "metadata": {},
   "outputs": [
    {
     "name": "stdout",
     "output_type": "stream",
     "text": [
      "{1: 2, 2: 3, 6: 1, 7: 2, 5: 1, 8: 1, 9: 2}\n"
     ]
    }
   ],
   "source": [
    "lista = [1, 2, 6, 7, 2, 5, 8, 9, 1, 2, 9, 7]\n",
    "diccionario = {}\n",
    "for i in lista:\n",
    "    if i in diccionario:\n",
    "        diccionario[i] += 1\n",
    "    else:\n",
    "        diccionario[i] = 1\n",
    "print(diccionario)"
   ]
  },
  {
   "cell_type": "code",
   "execution_count": 78,
   "metadata": {},
   "outputs": [
    {
     "name": "stdout",
     "output_type": "stream",
     "text": [
      "{1: 2, 2: 3, 5: 1, 6: 1, 7: 2, 8: 1, 9: 2}\n"
     ]
    }
   ],
   "source": [
    "lista = [1, 2, 6, 7, 2, 5, 8, 9, 1, 2, 9, 7]\n",
    "lista.sort()\n",
    "diccionario = {k: len(list(v)) for k, v in groupby(lista)}\n",
    "print(diccionario)"
   ]
  },
  {
   "cell_type": "code",
   "execution_count": 83,
   "metadata": {},
   "outputs": [
    {
     "name": "stdout",
     "output_type": "stream",
     "text": [
      "[\n",
      "  {\n",
      "    \"userId\": 1,\n",
      "    \"id\": 1,\n",
      "    \"title\": \"sunt aut facere repellat provident occaecati excepturi optio reprehenderit\",\n",
      "    \"body\": \"quia et suscipit\\nsuscipit recusandae consequuntur expedita et cum\\nreprehenderit molestiae ut ut quas totam\\nnostrum rerum est autem sunt rem eveniet architecto\"\n",
      "  },\n",
      "  {\n",
      "    \"userId\": 1,\n",
      "    \"id\": 2,\n",
      "    \"title\": \"qui est esse\",\n",
      "    \"body\": \"est rerum tempore vitae\\nsequi sint nihil reprehenderit dolor beatae ea dolores neque\\nfugiat blanditiis voluptate porro vel nihil molestiae ut reiciendis\\nqui aperiam non debitis possimus qui neque nisi nulla\"\n",
      "  },\n",
      "  {\n",
      "    \"userId\": 1,\n",
      "    \"id\": 3,\n",
      "    \"title\": \"ea molestias quasi exercitationem repellat qui ipsa sit aut\",\n",
      "    \"body\": \"et iusto sed quo iure\\nvoluptatem occaecati omnis eligendi aut ad\\nvoluptatem doloribus vel accusantium quis pariatur\\nmolestiae porro eius odio et labore et velit aut\"\n",
      "  },\n",
      "  {\n",
      "    \"userId\": 1,\n",
      "    \"id\": 4,\n",
      "    \"title\": \"eum et est occaecati\",\n",
      "    \"body\": \"ullam et saepe reiciendis voluptatem adipisci\\nsit amet autem assumenda provident rerum culpa\\nquis hic commodi nesciunt rem tenetur doloremque ipsam iure\\nquis sunt voluptatem rerum illo velit\"\n",
      "  },\n",
      "  {\n",
      "    \"userId\": 1,\n",
      "    \"id\": 5,\n",
      "    \"title\": \"nesciunt quas odio\",\n",
      "    \"body\": \"repudiandae veniam quaerat sunt sed\\nalias aut fugiat sit autem sed est\\nvoluptatem omnis possimus esse voluptatibus quis\\nest aut tenetur dolor neque\"\n",
      "  },\n",
      "  {\n",
      "    \"userId\": 1,\n",
      "    \"id\": 6,\n",
      "    \"title\": \"dolorem eum magni eos aperiam quia\",\n",
      "    \"body\": \"ut aspernatur corporis harum nihil quis provident sequi\\nmollitia nobis aliquid molestiae\\nperspiciatis et ea nemo ab reprehenderit accusantium quas\\nvoluptate dolores velit et doloremque molestiae\"\n",
      "  },\n",
      "  {\n",
      "    \"userId\": 1,\n",
      "    \"id\": 7,\n",
      "    \"title\": \"magnam facilis autem\",\n",
      "    \"body\": \"dolore placeat quibusdam ea quo vitae\\nmagni quis enim qui quis quo nemo aut saepe\\nquidem repellat excepturi ut quia\\nsunt ut sequi eos ea sed quas\"\n",
      "  },\n",
      "  {\n",
      "    \"userId\": 1,\n",
      "    \"id\": 8,\n",
      "    \"title\": \"dolorem dolore est ipsam\",\n",
      "    \"body\": \"dignissimos aperiam dolorem qui eum\\nfacilis quibusdam animi sint suscipit qui sint possimus cum\\nquaerat magni maiores excepturi\\nipsam ut commodi dolor voluptatum modi aut vitae\"\n",
      "  },\n",
      "  {\n",
      "    \"userId\": 1,\n",
      "    \"id\": 9,\n",
      "    \"title\": \"nesciunt iure omnis dolorem tempora et accusantium\",\n",
      "    \"body\": \"consectetur animi nesciunt iure dolore\\nenim quia ad\\nveniam autem ut quam aut nobis\\net est aut quod aut provident voluptas autem voluptas\"\n",
      "  },\n",
      "  {\n",
      "    \"userId\": 1,\n",
      "    \"id\": 10,\n",
      "    \"title\": \"optio molestias id quia eum\",\n",
      "    \"body\": \"quo et expedita modi cum officia vel magni\\ndoloribus qui repudiandae\\nvero nisi sit\\nquos veniam quod sed accusamus veritatis error\"\n",
      "  },\n",
      "  {\n",
      "    \"userId\": 2,\n",
      "    \"id\": 11,\n",
      "    \"title\": \"et ea vero quia laudantium autem\",\n",
      "    \"body\": \"delectus reiciendis molestiae occaecati non minima eveniet qui voluptatibus\\naccusamus in eum beatae sit\\nvel qui neque voluptates ut commodi qui incidunt\\nut animi commodi\"\n",
      "  },\n",
      "  {\n",
      "    \"userId\": 2,\n",
      "    \"id\": 12,\n",
      "    \"title\": \"in quibusdam tempore odit est dolorem\",\n",
      "    \"body\": \"itaque id aut magnam\\npraesentium quia et ea odit et ea voluptas et\\nsapiente quia nihil amet occaecati quia id voluptatem\\nincidunt ea est distinctio odio\"\n",
      "  },\n",
      "  {\n",
      "    \"userId\": 2,\n",
      "    \"id\": 13,\n",
      "    \"title\": \"dolorum ut in voluptas mollitia et saepe quo animi\",\n",
      "    \"body\": \"aut dicta possimus sint mollitia voluptas commodi quo doloremque\\niste corrupti reiciendis voluptatem eius rerum\\nsit cumque quod eligendi laborum minima\\nperferendis recusandae assumenda consectetur porro architecto ipsum ipsam\"\n",
      "  },\n",
      "  {\n",
      "    \"userId\": 2,\n",
      "    \"id\": 14,\n",
      "    \"title\": \"voluptatem eligendi optio\",\n",
      "    \"body\": \"fuga et accusamus dolorum perferendis illo voluptas\\nnon doloremque neque facere\\nad qui dolorum molestiae beatae\\nsed aut voluptas totam sit illum\"\n",
      "  },\n",
      "  {\n",
      "    \"userId\": 2,\n",
      "    \"id\": 15,\n",
      "    \"title\": \"eveniet quod temporibus\",\n",
      "    \"body\": \"reprehenderit quos placeat\\nvelit minima officia dolores impedit repudiandae molestiae nam\\nvoluptas recusandae quis delectus\\nofficiis harum fugiat vitae\"\n",
      "  },\n",
      "  {\n",
      "    \"userId\": 2,\n",
      "    \"id\": 16,\n",
      "    \"title\": \"sint suscipit perspiciatis velit dolorum rerum ipsa laboriosam odio\",\n",
      "    \"body\": \"suscipit nam nisi quo aperiam aut\\nasperiores eos fugit maiores voluptatibus quia\\nvoluptatem quis ullam qui in alias quia est\\nconsequatur magni mollitia accusamus ea nisi voluptate dicta\"\n",
      "  },\n",
      "  {\n",
      "    \"userId\": 2,\n",
      "    \"id\": 17,\n",
      "    \"title\": \"fugit voluptas sed molestias voluptatem provident\",\n",
      "    \"body\": \"eos voluptas et aut odit natus earum\\naspernatur fuga molestiae ullam\\ndeserunt ratione qui eos\\nqui nihil ratione nemo velit ut aut id quo\"\n",
      "  },\n",
      "  {\n",
      "    \"userId\": 2,\n",
      "    \"id\": 18,\n",
      "    \"title\": \"voluptate et itaque vero tempora molestiae\",\n",
      "    \"body\": \"eveniet quo quis\\nlaborum totam consequatur non dolor\\nut et est repudiandae\\nest voluptatem vel debitis et magnam\"\n",
      "  },\n",
      "  {\n",
      "    \"userId\": 2,\n",
      "    \"id\": 19,\n",
      "    \"title\": \"adipisci placeat illum aut reiciendis qui\",\n",
      "    \"body\": \"illum quis cupiditate provident sit magnam\\nea sed aut omnis\\nveniam maiores ullam consequatur atque\\nadipisci quo iste expedita sit quos voluptas\"\n",
      "  },\n",
      "  {\n",
      "    \"userId\": 2,\n",
      "    \"id\": 20,\n",
      "    \"title\": \"doloribus ad provident suscipit at\",\n",
      "    \"body\": \"qui consequuntur ducimus possimus quisquam amet similique\\nsuscipit porro ipsam amet\\neos veritatis officiis exercitationem vel fugit aut necessitatibus totam\\nomnis rerum consequatur expedita quidem cumque explicabo\"\n",
      "  },\n",
      "  {\n",
      "    \"userId\": 3,\n",
      "    \"id\": 21,\n",
      "    \"title\": \"asperiores ea ipsam voluptatibus modi minima quia sint\",\n",
      "    \"body\": \"repellat aliquid praesentium dolorem quo\\nsed totam minus non itaque\\nnihil labore molestiae sunt dolor eveniet hic recusandae veniam\\ntempora et tenetur expedita sunt\"\n",
      "  },\n",
      "  {\n",
      "    \"userId\": 3,\n",
      "    \"id\": 22,\n",
      "    \"title\": \"dolor sint quo a velit explicabo quia nam\",\n",
      "    \"body\": \"eos qui et ipsum ipsam suscipit aut\\nsed omnis non odio\\nexpedita earum mollitia molestiae aut atque rem suscipit\\nnam impedit esse\"\n",
      "  },\n",
      "  {\n",
      "    \"userId\": 3,\n",
      "    \"id\": 23,\n",
      "    \"title\": \"maxime id vitae nihil numquam\",\n",
      "    \"body\": \"veritatis unde neque eligendi\\nquae quod architecto quo neque vitae\\nest illo sit tempora doloremque fugit quod\\net et vel beatae sequi ullam sed tenetur perspiciatis\"\n",
      "  },\n",
      "  {\n",
      "    \"userId\": 3,\n",
      "    \"id\": 24,\n",
      "    \"title\": \"autem hic labore sunt dolores incidunt\",\n",
      "    \"body\": \"enim et ex nulla\\nomnis voluptas quia qui\\nvoluptatem consequatur numquam aliquam sunt\\ntotam recusandae id dignissimos aut sed asperiores deserunt\"\n",
      "  },\n",
      "  {\n",
      "    \"userId\": 3,\n",
      "    \"id\": 25,\n",
      "    \"title\": \"rem alias distinctio quo quis\",\n",
      "    \"body\": \"ullam consequatur ut\\nomnis quis sit vel consequuntur\\nipsa eligendi ipsum molestiae et omnis error nostrum\\nmolestiae illo tempore quia et distinctio\"\n",
      "  },\n",
      "  {\n",
      "    \"userId\": 3,\n",
      "    \"id\": 26,\n",
      "    \"title\": \"est et quae odit qui non\",\n",
      "    \"body\": \"similique esse doloribus nihil accusamus\\nomnis dolorem fuga consequuntur reprehenderit fugit recusandae temporibus\\nperspiciatis cum ut laudantium\\nomnis aut molestiae vel vero\"\n",
      "  },\n",
      "  {\n",
      "    \"userId\": 3,\n",
      "    \"id\": 27,\n",
      "    \"title\": \"quasi id et eos tenetur aut quo autem\",\n",
      "    \"body\": \"eum sed dolores ipsam sint possimus debitis occaecati\\ndebitis qui qui et\\nut placeat enim earum aut odit facilis\\nconsequatur suscipit necessitatibus rerum sed inventore temporibus consequatur\"\n",
      "  },\n",
      "  {\n",
      "    \"userId\": 3,\n",
      "    \"id\": 28,\n",
      "    \"title\": \"delectus ullam et corporis nulla voluptas sequi\",\n",
      "    \"body\": \"non et quaerat ex quae ad maiores\\nmaiores recusandae totam aut blanditiis mollitia quas illo\\nut voluptatibus voluptatem\\nsimilique nostrum eum\"\n",
      "  },\n",
      "  {\n",
      "    \"userId\": 3,\n",
      "    \"id\": 29,\n",
      "    \"title\": \"iusto eius quod necessitatibus culpa ea\",\n",
      "    \"body\": \"odit magnam ut saepe sed non qui\\ntempora atque nihil\\naccusamus illum doloribus illo dolor\\neligendi repudiandae odit magni similique sed cum maiores\"\n",
      "  },\n",
      "  {\n",
      "    \"userId\": 3,\n",
      "    \"id\": 30,\n",
      "    \"title\": \"a quo magni similique perferendis\",\n",
      "    \"body\": \"alias dolor cumque\\nimpedit blanditiis non eveniet odio maxime\\nblanditiis amet eius quis tempora quia autem rem\\na provident perspiciatis quia\"\n",
      "  },\n",
      "  {\n",
      "    \"userId\": 4,\n",
      "    \"id\": 31,\n",
      "    \"title\": \"ullam ut quidem id aut vel consequuntur\",\n",
      "    \"body\": \"debitis eius sed quibusdam non quis consectetur vitae\\nimpedit ut qui consequatur sed aut in\\nquidem sit nostrum et maiores adipisci atque\\nquaerat voluptatem adipisci repudiandae\"\n",
      "  },\n",
      "  {\n",
      "    \"userId\": 4,\n",
      "    \"id\": 32,\n",
      "    \"title\": \"doloremque illum aliquid sunt\",\n",
      "    \"body\": \"deserunt eos nobis asperiores et hic\\nest debitis repellat molestiae optio\\nnihil ratione ut eos beatae quibusdam distinctio maiores\\nearum voluptates et aut adipisci ea maiores voluptas maxime\"\n",
      "  },\n",
      "  {\n",
      "    \"userId\": 4,\n",
      "    \"id\": 33,\n",
      "    \"title\": \"qui explicabo molestiae dolorem\",\n",
      "    \"body\": \"rerum ut et numquam laborum odit est sit\\nid qui sint in\\nquasi tenetur tempore aperiam et quaerat qui in\\nrerum officiis sequi cumque quod\"\n",
      "  },\n",
      "  {\n",
      "    \"userId\": 4,\n",
      "    \"id\": 34,\n",
      "    \"title\": \"magnam ut rerum iure\",\n",
      "    \"body\": \"ea velit perferendis earum ut voluptatem voluptate itaque iusto\\ntotam pariatur in\\nnemo voluptatem voluptatem autem magni tempora minima in\\nest distinctio qui assumenda accusamus dignissimos officia nesciunt nobis\"\n",
      "  },\n",
      "  {\n",
      "    \"userId\": 4,\n",
      "    \"id\": 35,\n",
      "    \"title\": \"id nihil consequatur molestias animi provident\",\n",
      "    \"body\": \"nisi error delectus possimus ut eligendi vitae\\nplaceat eos harum cupiditate facilis reprehenderit voluptatem beatae\\nmodi ducimus quo illum voluptas eligendi\\net nobis quia fugit\"\n",
      "  },\n",
      "  {\n",
      "    \"userId\": 4,\n",
      "    \"id\": 36,\n",
      "    \"title\": \"fuga nam accusamus voluptas reiciendis itaque\",\n",
      "    \"body\": \"ad mollitia et omnis minus architecto odit\\nvoluptas doloremque maxime aut non ipsa qui alias veniam\\nblanditiis culpa aut quia nihil cumque facere et occaecati\\nqui aspernatur quia eaque ut aperiam inventore\"\n",
      "  },\n",
      "  {\n",
      "    \"userId\": 4,\n",
      "    \"id\": 37,\n",
      "    \"title\": \"provident vel ut sit ratione est\",\n",
      "    \"body\": \"debitis et eaque non officia sed nesciunt pariatur vel\\nvoluptatem iste vero et ea\\nnumquam aut expedita ipsum nulla in\\nvoluptates omnis consequatur aut enim officiis in quam qui\"\n",
      "  },\n",
      "  {\n",
      "    \"userId\": 4,\n",
      "    \"id\": 38,\n",
      "    \"title\": \"explicabo et eos deleniti nostrum ab id repellendus\",\n",
      "    \"body\": \"animi esse sit aut sit nesciunt assumenda eum voluptas\\nquia voluptatibus provident quia necessitatibus ea\\nrerum repudiandae quia voluptatem delectus fugit aut id quia\\nratione optio eos iusto veniam iure\"\n",
      "  },\n",
      "  {\n",
      "    \"userId\": 4,\n",
      "    \"id\": 39,\n",
      "    \"title\": \"eos dolorem iste accusantium est eaque quam\",\n",
      "    \"body\": \"corporis rerum ducimus vel eum accusantium\\nmaxime aspernatur a porro possimus iste omnis\\nest in deleniti asperiores fuga aut\\nvoluptas sapiente vel dolore minus voluptatem incidunt ex\"\n",
      "  },\n",
      "  {\n",
      "    \"userId\": 4,\n",
      "    \"id\": 40,\n",
      "    \"title\": \"enim quo cumque\",\n",
      "    \"body\": \"ut voluptatum aliquid illo tenetur nemo sequi quo facilis\\nipsum rem optio mollitia quas\\nvoluptatem eum voluptas qui\\nunde omnis voluptatem iure quasi maxime voluptas nam\"\n",
      "  },\n",
      "  {\n",
      "    \"userId\": 5,\n",
      "    \"id\": 41,\n",
      "    \"title\": \"non est facere\",\n",
      "    \"body\": \"molestias id nostrum\\nexcepturi molestiae dolore omnis repellendus quaerat saepe\\nconsectetur iste quaerat tenetur asperiores accusamus ex ut\\nnam quidem est ducimus sunt debitis saepe\"\n",
      "  },\n",
      "  {\n",
      "    \"userId\": 5,\n",
      "    \"id\": 42,\n",
      "    \"title\": \"commodi ullam sint et excepturi error explicabo praesentium voluptas\",\n",
      "    \"body\": \"odio fugit voluptatum ducimus earum autem est incidunt voluptatem\\nodit reiciendis aliquam sunt sequi nulla dolorem\\nnon facere repellendus voluptates quia\\nratione harum vitae ut\"\n",
      "  },\n",
      "  {\n",
      "    \"userId\": 5,\n",
      "    \"id\": 43,\n",
      "    \"title\": \"eligendi iste nostrum consequuntur adipisci praesentium sit beatae perferendis\",\n",
      "    \"body\": \"similique fugit est\\nillum et dolorum harum et voluptate eaque quidem\\nexercitationem quos nam commodi possimus cum odio nihil nulla\\ndolorum exercitationem magnam ex et a et distinctio debitis\"\n",
      "  },\n",
      "  {\n",
      "    \"userId\": 5,\n",
      "    \"id\": 44,\n",
      "    \"title\": \"optio dolor molestias sit\",\n",
      "    \"body\": \"temporibus est consectetur dolore\\net libero debitis vel velit laboriosam quia\\nipsum quibusdam qui itaque fuga rem aut\\nea et iure quam sed maxime ut distinctio quae\"\n",
      "  },\n",
      "  {\n",
      "    \"userId\": 5,\n",
      "    \"id\": 45,\n",
      "    \"title\": \"ut numquam possimus omnis eius suscipit laudantium iure\",\n",
      "    \"body\": \"est natus reiciendis nihil possimus aut provident\\nex et dolor\\nrepellat pariatur est\\nnobis rerum repellendus dolorem autem\"\n",
      "  },\n",
      "  {\n",
      "    \"userId\": 5,\n",
      "    \"id\": 46,\n",
      "    \"title\": \"aut quo modi neque nostrum ducimus\",\n",
      "    \"body\": \"voluptatem quisquam iste\\nvoluptatibus natus officiis facilis dolorem\\nquis quas ipsam\\nvel et voluptatum in aliquid\"\n",
      "  },\n",
      "  {\n",
      "    \"userId\": 5,\n",
      "    \"id\": 47,\n",
      "    \"title\": \"quibusdam cumque rem aut deserunt\",\n",
      "    \"body\": \"voluptatem assumenda ut qui ut cupiditate aut impedit veniam\\noccaecati nemo illum voluptatem laudantium\\nmolestiae beatae rerum ea iure soluta nostrum\\neligendi et voluptate\"\n",
      "  },\n",
      "  {\n",
      "    \"userId\": 5,\n",
      "    \"id\": 48,\n",
      "    \"title\": \"ut voluptatem illum ea doloribus itaque eos\",\n",
      "    \"body\": \"voluptates quo voluptatem facilis iure occaecati\\nvel assumenda rerum officia et\\nillum perspiciatis ab deleniti\\nlaudantium repellat ad ut et autem reprehenderit\"\n",
      "  },\n",
      "  {\n",
      "    \"userId\": 5,\n",
      "    \"id\": 49,\n",
      "    \"title\": \"laborum non sunt aut ut assumenda perspiciatis voluptas\",\n",
      "    \"body\": \"inventore ab sint\\nnatus fugit id nulla sequi architecto nihil quaerat\\neos tenetur in in eum veritatis non\\nquibusdam officiis aspernatur cumque aut commodi aut\"\n",
      "  },\n",
      "  {\n",
      "    \"userId\": 5,\n",
      "    \"id\": 50,\n",
      "    \"title\": \"repellendus qui recusandae incidunt voluptates tenetur qui omnis exercitationem\",\n",
      "    \"body\": \"error suscipit maxime adipisci consequuntur recusandae\\nvoluptas eligendi et est et voluptates\\nquia distinctio ab amet quaerat molestiae et vitae\\nadipisci impedit sequi nesciunt quis consectetur\"\n",
      "  },\n",
      "  {\n",
      "    \"userId\": 6,\n",
      "    \"id\": 51,\n",
      "    \"title\": \"soluta aliquam aperiam consequatur illo quis voluptas\",\n",
      "    \"body\": \"sunt dolores aut doloribus\\ndolore doloribus voluptates tempora et\\ndoloremque et quo\\ncum asperiores sit consectetur dolorem\"\n",
      "  },\n",
      "  {\n",
      "    \"userId\": 6,\n",
      "    \"id\": 52,\n",
      "    \"title\": \"qui enim et consequuntur quia animi quis voluptate quibusdam\",\n",
      "    \"body\": \"iusto est quibusdam fuga quas quaerat molestias\\na enim ut sit accusamus enim\\ntemporibus iusto accusantium provident architecto\\nsoluta esse reprehenderit qui laborum\"\n",
      "  },\n",
      "  {\n",
      "    \"userId\": 6,\n",
      "    \"id\": 53,\n",
      "    \"title\": \"ut quo aut ducimus alias\",\n",
      "    \"body\": \"minima harum praesentium eum rerum illo dolore\\nquasi exercitationem rerum nam\\nporro quis neque quo\\nconsequatur minus dolor quidem veritatis sunt non explicabo similique\"\n",
      "  },\n",
      "  {\n",
      "    \"userId\": 6,\n",
      "    \"id\": 54,\n",
      "    \"title\": \"sit asperiores ipsam eveniet odio non quia\",\n",
      "    \"body\": \"totam corporis dignissimos\\nvitae dolorem ut occaecati accusamus\\nex velit deserunt\\net exercitationem vero incidunt corrupti mollitia\"\n",
      "  },\n",
      "  {\n",
      "    \"userId\": 6,\n",
      "    \"id\": 55,\n",
      "    \"title\": \"sit vel voluptatem et non libero\",\n",
      "    \"body\": \"debitis excepturi ea perferendis harum libero optio\\neos accusamus cum fuga ut sapiente repudiandae\\net ut incidunt omnis molestiae\\nnihil ut eum odit\"\n",
      "  },\n",
      "  {\n",
      "    \"userId\": 6,\n",
      "    \"id\": 56,\n",
      "    \"title\": \"qui et at rerum necessitatibus\",\n",
      "    \"body\": \"aut est omnis dolores\\nneque rerum quod ea rerum velit pariatur beatae excepturi\\net provident voluptas corrupti\\ncorporis harum reprehenderit dolores eligendi\"\n",
      "  },\n",
      "  {\n",
      "    \"userId\": 6,\n",
      "    \"id\": 57,\n",
      "    \"title\": \"sed ab est est\",\n",
      "    \"body\": \"at pariatur consequuntur earum quidem\\nquo est laudantium soluta voluptatem\\nqui ullam et est\\net cum voluptas voluptatum repellat est\"\n",
      "  },\n",
      "  {\n",
      "    \"userId\": 6,\n",
      "    \"id\": 58,\n",
      "    \"title\": \"voluptatum itaque dolores nisi et quasi\",\n",
      "    \"body\": \"veniam voluptatum quae adipisci id\\net id quia eos ad et dolorem\\naliquam quo nisi sunt eos impedit error\\nad similique veniam\"\n",
      "  },\n",
      "  {\n",
      "    \"userId\": 6,\n",
      "    \"id\": 59,\n",
      "    \"title\": \"qui commodi dolor at maiores et quis id accusantium\",\n",
      "    \"body\": \"perspiciatis et quam ea autem temporibus non voluptatibus qui\\nbeatae a earum officia nesciunt dolores suscipit voluptas et\\nanimi doloribus cum rerum quas et magni\\net hic ut ut commodi expedita sunt\"\n",
      "  },\n",
      "  {\n",
      "    \"userId\": 6,\n",
      "    \"id\": 60,\n",
      "    \"title\": \"consequatur placeat omnis quisquam quia reprehenderit fugit veritatis facere\",\n",
      "    \"body\": \"asperiores sunt ab assumenda cumque modi velit\\nqui esse omnis\\nvoluptate et fuga perferendis voluptas\\nillo ratione amet aut et omnis\"\n",
      "  },\n",
      "  {\n",
      "    \"userId\": 7,\n",
      "    \"id\": 61,\n",
      "    \"title\": \"voluptatem doloribus consectetur est ut ducimus\",\n",
      "    \"body\": \"ab nemo optio odio\\ndelectus tenetur corporis similique nobis repellendus rerum omnis facilis\\nvero blanditiis debitis in nesciunt doloribus dicta dolores\\nmagnam minus velit\"\n",
      "  },\n",
      "  {\n",
      "    \"userId\": 7,\n",
      "    \"id\": 62,\n",
      "    \"title\": \"beatae enim quia vel\",\n",
      "    \"body\": \"enim aspernatur illo distinctio quae praesentium\\nbeatae alias amet delectus qui voluptate distinctio\\nodit sint accusantium autem omnis\\nquo molestiae omnis ea eveniet optio\"\n",
      "  },\n",
      "  {\n",
      "    \"userId\": 7,\n",
      "    \"id\": 63,\n",
      "    \"title\": \"voluptas blanditiis repellendus animi ducimus error sapiente et suscipit\",\n",
      "    \"body\": \"enim adipisci aspernatur nemo\\nnumquam omnis facere dolorem dolor ex quis temporibus incidunt\\nab delectus culpa quo reprehenderit blanditiis asperiores\\naccusantium ut quam in voluptatibus voluptas ipsam dicta\"\n",
      "  },\n",
      "  {\n",
      "    \"userId\": 7,\n",
      "    \"id\": 64,\n",
      "    \"title\": \"et fugit quas eum in in aperiam quod\",\n",
      "    \"body\": \"id velit blanditiis\\neum ea voluptatem\\nmolestiae sint occaecati est eos perspiciatis\\nincidunt a error provident eaque aut aut qui\"\n",
      "  },\n",
      "  {\n",
      "    \"userId\": 7,\n",
      "    \"id\": 65,\n",
      "    \"title\": \"consequatur id enim sunt et et\",\n",
      "    \"body\": \"voluptatibus ex esse\\nsint explicabo est aliquid cumque adipisci fuga repellat labore\\nmolestiae corrupti ex saepe at asperiores et perferendis\\nnatus id esse incidunt pariatur\"\n",
      "  },\n",
      "  {\n",
      "    \"userId\": 7,\n",
      "    \"id\": 66,\n",
      "    \"title\": \"repudiandae ea animi iusto\",\n",
      "    \"body\": \"officia veritatis tenetur vero qui itaque\\nsint non ratione\\nsed et ut asperiores iusto eos molestiae nostrum\\nveritatis quibusdam et nemo iusto saepe\"\n",
      "  },\n",
      "  {\n",
      "    \"userId\": 7,\n",
      "    \"id\": 67,\n",
      "    \"title\": \"aliquid eos sed fuga est maxime repellendus\",\n",
      "    \"body\": \"reprehenderit id nostrum\\nvoluptas doloremque pariatur sint et accusantium quia quod aspernatur\\net fugiat amet\\nnon sapiente et consequatur necessitatibus molestiae\"\n",
      "  },\n",
      "  {\n",
      "    \"userId\": 7,\n",
      "    \"id\": 68,\n",
      "    \"title\": \"odio quis facere architecto reiciendis optio\",\n",
      "    \"body\": \"magnam molestiae perferendis quisquam\\nqui cum reiciendis\\nquaerat animi amet hic inventore\\nea quia deleniti quidem saepe porro velit\"\n",
      "  },\n",
      "  {\n",
      "    \"userId\": 7,\n",
      "    \"id\": 69,\n",
      "    \"title\": \"fugiat quod pariatur odit minima\",\n",
      "    \"body\": \"officiis error culpa consequatur modi asperiores et\\ndolorum assumenda voluptas et vel qui aut vel rerum\\nvoluptatum quisquam perspiciatis quia rerum consequatur totam quas\\nsequi commodi repudiandae asperiores et saepe a\"\n",
      "  },\n",
      "  {\n",
      "    \"userId\": 7,\n",
      "    \"id\": 70,\n",
      "    \"title\": \"voluptatem laborum magni\",\n",
      "    \"body\": \"sunt repellendus quae\\nest asperiores aut deleniti esse accusamus repellendus quia aut\\nquia dolorem unde\\neum tempora esse dolore\"\n",
      "  },\n",
      "  {\n",
      "    \"userId\": 8,\n",
      "    \"id\": 71,\n",
      "    \"title\": \"et iusto veniam et illum aut fuga\",\n",
      "    \"body\": \"occaecati a doloribus\\niste saepe consectetur placeat eum voluptate dolorem et\\nqui quo quia voluptas\\nrerum ut id enim velit est perferendis\"\n",
      "  },\n",
      "  {\n",
      "    \"userId\": 8,\n",
      "    \"id\": 72,\n",
      "    \"title\": \"sint hic doloribus consequatur eos non id\",\n",
      "    \"body\": \"quam occaecati qui deleniti consectetur\\nconsequatur aut facere quas exercitationem aliquam hic voluptas\\nneque id sunt ut aut accusamus\\nsunt consectetur expedita inventore velit\"\n",
      "  },\n",
      "  {\n",
      "    \"userId\": 8,\n",
      "    \"id\": 73,\n",
      "    \"title\": \"consequuntur deleniti eos quia temporibus ab aliquid at\",\n",
      "    \"body\": \"voluptatem cumque tenetur consequatur expedita ipsum nemo quia explicabo\\naut eum minima consequatur\\ntempore cumque quae est et\\net in consequuntur voluptatem voluptates aut\"\n",
      "  },\n",
      "  {\n",
      "    \"userId\": 8,\n",
      "    \"id\": 74,\n",
      "    \"title\": \"enim unde ratione doloribus quas enim ut sit sapiente\",\n",
      "    \"body\": \"odit qui et et necessitatibus sint veniam\\nmollitia amet doloremque molestiae commodi similique magnam et quam\\nblanditiis est itaque\\nquo et tenetur ratione occaecati molestiae tempora\"\n",
      "  },\n",
      "  {\n",
      "    \"userId\": 8,\n",
      "    \"id\": 75,\n",
      "    \"title\": \"dignissimos eum dolor ut enim et delectus in\",\n",
      "    \"body\": \"commodi non non omnis et voluptas sit\\nautem aut nobis magnam et sapiente voluptatem\\net laborum repellat qui delectus facilis temporibus\\nrerum amet et nemo voluptate expedita adipisci error dolorem\"\n",
      "  },\n",
      "  {\n",
      "    \"userId\": 8,\n",
      "    \"id\": 76,\n",
      "    \"title\": \"doloremque officiis ad et non perferendis\",\n",
      "    \"body\": \"ut animi facere\\ntotam iusto tempore\\nmolestiae eum aut et dolorem aperiam\\nquaerat recusandae totam odio\"\n",
      "  },\n",
      "  {\n",
      "    \"userId\": 8,\n",
      "    \"id\": 77,\n",
      "    \"title\": \"necessitatibus quasi exercitationem odio\",\n",
      "    \"body\": \"modi ut in nulla repudiandae dolorum nostrum eos\\naut consequatur omnis\\nut incidunt est omnis iste et quam\\nvoluptates sapiente aliquam asperiores nobis amet corrupti repudiandae provident\"\n",
      "  },\n",
      "  {\n",
      "    \"userId\": 8,\n",
      "    \"id\": 78,\n",
      "    \"title\": \"quam voluptatibus rerum veritatis\",\n",
      "    \"body\": \"nobis facilis odit tempore cupiditate quia\\nassumenda doloribus rerum qui ea\\nillum et qui totam\\naut veniam repellendus\"\n",
      "  },\n",
      "  {\n",
      "    \"userId\": 8,\n",
      "    \"id\": 79,\n",
      "    \"title\": \"pariatur consequatur quia magnam autem omnis non amet\",\n",
      "    \"body\": \"libero accusantium et et facere incidunt sit dolorem\\nnon excepturi qui quia sed laudantium\\nquisquam molestiae ducimus est\\nofficiis esse molestiae iste et quos\"\n",
      "  },\n",
      "  {\n",
      "    \"userId\": 8,\n",
      "    \"id\": 80,\n",
      "    \"title\": \"labore in ex et explicabo corporis aut quas\",\n",
      "    \"body\": \"ex quod dolorem ea eum iure qui provident amet\\nquia qui facere excepturi et repudiandae\\nasperiores molestias provident\\nminus incidunt vero fugit rerum sint sunt excepturi provident\"\n",
      "  },\n",
      "  {\n",
      "    \"userId\": 9,\n",
      "    \"id\": 81,\n",
      "    \"title\": \"tempora rem veritatis voluptas quo dolores vero\",\n",
      "    \"body\": \"facere qui nesciunt est voluptatum voluptatem nisi\\nsequi eligendi necessitatibus ea at rerum itaque\\nharum non ratione velit laboriosam quis consequuntur\\nex officiis minima doloremque voluptas ut aut\"\n",
      "  },\n",
      "  {\n",
      "    \"userId\": 9,\n",
      "    \"id\": 82,\n",
      "    \"title\": \"laudantium voluptate suscipit sunt enim enim\",\n",
      "    \"body\": \"ut libero sit aut totam inventore sunt\\nporro sint qui sunt molestiae\\nconsequatur cupiditate qui iste ducimus adipisci\\ndolor enim assumenda soluta laboriosam amet iste delectus hic\"\n",
      "  },\n",
      "  {\n",
      "    \"userId\": 9,\n",
      "    \"id\": 83,\n",
      "    \"title\": \"odit et voluptates doloribus alias odio et\",\n",
      "    \"body\": \"est molestiae facilis quis tempora numquam nihil qui\\nvoluptate sapiente consequatur est qui\\nnecessitatibus autem aut ipsa aperiam modi dolore numquam\\nreprehenderit eius rem quibusdam\"\n",
      "  },\n",
      "  {\n",
      "    \"userId\": 9,\n",
      "    \"id\": 84,\n",
      "    \"title\": \"optio ipsam molestias necessitatibus occaecati facilis veritatis dolores aut\",\n",
      "    \"body\": \"sint molestiae magni a et quos\\neaque et quasi\\nut rerum debitis similique veniam\\nrecusandae dignissimos dolor incidunt consequatur odio\"\n",
      "  },\n",
      "  {\n",
      "    \"userId\": 9,\n",
      "    \"id\": 85,\n",
      "    \"title\": \"dolore veritatis porro provident adipisci blanditiis et sunt\",\n",
      "    \"body\": \"similique sed nisi voluptas iusto omnis\\nmollitia et quo\\nassumenda suscipit officia magnam sint sed tempora\\nenim provident pariatur praesentium atque animi amet ratione\"\n",
      "  },\n",
      "  {\n",
      "    \"userId\": 9,\n",
      "    \"id\": 86,\n",
      "    \"title\": \"placeat quia et porro iste\",\n",
      "    \"body\": \"quasi excepturi consequatur iste autem temporibus sed molestiae beatae\\net quaerat et esse ut\\nvoluptatem occaecati et vel explicabo autem\\nasperiores pariatur deserunt optio\"\n",
      "  },\n",
      "  {\n",
      "    \"userId\": 9,\n",
      "    \"id\": 87,\n",
      "    \"title\": \"nostrum quis quasi placeat\",\n",
      "    \"body\": \"eos et molestiae\\nnesciunt ut a\\ndolores perspiciatis repellendus repellat aliquid\\nmagnam sint rem ipsum est\"\n",
      "  },\n",
      "  {\n",
      "    \"userId\": 9,\n",
      "    \"id\": 88,\n",
      "    \"title\": \"sapiente omnis fugit eos\",\n",
      "    \"body\": \"consequatur omnis est praesentium\\nducimus non iste\\nneque hic deserunt\\nvoluptatibus veniam cum et rerum sed\"\n",
      "  },\n",
      "  {\n",
      "    \"userId\": 9,\n",
      "    \"id\": 89,\n",
      "    \"title\": \"sint soluta et vel magnam aut ut sed qui\",\n",
      "    \"body\": \"repellat aut aperiam totam temporibus autem et\\narchitecto magnam ut\\nconsequatur qui cupiditate rerum quia soluta dignissimos nihil iure\\ntempore quas est\"\n",
      "  },\n",
      "  {\n",
      "    \"userId\": 9,\n",
      "    \"id\": 90,\n",
      "    \"title\": \"ad iusto omnis odit dolor voluptatibus\",\n",
      "    \"body\": \"minus omnis soluta quia\\nqui sed adipisci voluptates illum ipsam voluptatem\\neligendi officia ut in\\neos soluta similique molestias praesentium blanditiis\"\n",
      "  },\n",
      "  {\n",
      "    \"userId\": 10,\n",
      "    \"id\": 91,\n",
      "    \"title\": \"aut amet sed\",\n",
      "    \"body\": \"libero voluptate eveniet aperiam sed\\nsunt placeat suscipit molestias\\nsimilique fugit nam natus\\nexpedita consequatur consequatur dolores quia eos et placeat\"\n",
      "  },\n",
      "  {\n",
      "    \"userId\": 10,\n",
      "    \"id\": 92,\n",
      "    \"title\": \"ratione ex tenetur perferendis\",\n",
      "    \"body\": \"aut et excepturi dicta laudantium sint rerum nihil\\nlaudantium et at\\na neque minima officia et similique libero et\\ncommodi voluptate qui\"\n",
      "  },\n",
      "  {\n",
      "    \"userId\": 10,\n",
      "    \"id\": 93,\n",
      "    \"title\": \"beatae soluta recusandae\",\n",
      "    \"body\": \"dolorem quibusdam ducimus consequuntur dicta aut quo laboriosam\\nvoluptatem quis enim recusandae ut sed sunt\\nnostrum est odit totam\\nsit error sed sunt eveniet provident qui nulla\"\n",
      "  },\n",
      "  {\n",
      "    \"userId\": 10,\n",
      "    \"id\": 94,\n",
      "    \"title\": \"qui qui voluptates illo iste minima\",\n",
      "    \"body\": \"aspernatur expedita soluta quo ab ut similique\\nexpedita dolores amet\\nsed temporibus distinctio magnam saepe deleniti\\nomnis facilis nam ipsum natus sint similique omnis\"\n",
      "  },\n",
      "  {\n",
      "    \"userId\": 10,\n",
      "    \"id\": 95,\n",
      "    \"title\": \"id minus libero illum nam ad officiis\",\n",
      "    \"body\": \"earum voluptatem facere provident blanditiis velit laboriosam\\npariatur accusamus odio saepe\\ncumque dolor qui a dicta ab doloribus consequatur omnis\\ncorporis cupiditate eaque assumenda ad nesciunt\"\n",
      "  },\n",
      "  {\n",
      "    \"userId\": 10,\n",
      "    \"id\": 96,\n",
      "    \"title\": \"quaerat velit veniam amet cupiditate aut numquam ut sequi\",\n",
      "    \"body\": \"in non odio excepturi sint eum\\nlabore voluptates vitae quia qui et\\ninventore itaque rerum\\nveniam non exercitationem delectus aut\"\n",
      "  },\n",
      "  {\n",
      "    \"userId\": 10,\n",
      "    \"id\": 97,\n",
      "    \"title\": \"quas fugiat ut perspiciatis vero provident\",\n",
      "    \"body\": \"eum non blanditiis soluta porro quibusdam voluptas\\nvel voluptatem qui placeat dolores qui velit aut\\nvel inventore aut cumque culpa explicabo aliquid at\\nperspiciatis est et voluptatem dignissimos dolor itaque sit nam\"\n",
      "  },\n",
      "  {\n",
      "    \"userId\": 10,\n",
      "    \"id\": 98,\n",
      "    \"title\": \"laboriosam dolor voluptates\",\n",
      "    \"body\": \"doloremque ex facilis sit sint culpa\\nsoluta assumenda eligendi non ut eius\\nsequi ducimus vel quasi\\nveritatis est dolores\"\n",
      "  },\n",
      "  {\n",
      "    \"userId\": 10,\n",
      "    \"id\": 99,\n",
      "    \"title\": \"temporibus sit alias delectus eligendi possimus magni\",\n",
      "    \"body\": \"quo deleniti praesentium dicta non quod\\naut est molestias\\nmolestias et officia quis nihil\\nitaque dolorem quia\"\n",
      "  },\n",
      "  {\n",
      "    \"userId\": 10,\n",
      "    \"id\": 100,\n",
      "    \"title\": \"at nam consequatur ea labore ea harum\",\n",
      "    \"body\": \"cupiditate quo est a modi nesciunt soluta\\nipsa voluptas error itaque dicta in\\nautem qui minus magnam et distinctio eum\\naccusamus ratione error aut\"\n",
      "  }\n",
      "]\n",
      "<Response [200]>\n"
     ]
    }
   ],
   "source": [
    "import requests\n",
    "url = \"https://jsonplaceholder.typicode.com/posts\"\n",
    "headers = {\n",
    "    'cache-control': \"no-cache\",\n",
    "    'Postman-Token': \"2defb9f3-9b11-499b-be4f-82505a2f8e1a\",\n",
    "}\n",
    "response = requests.request(\"GET\", url, headers=headers)\n",
    "# Cuerpo de la respuesta o \"body\"\n",
    "print(response.text)\n",
    "# Código de la respuesta\n",
    "print(response)\n",
    "#API, paginas nso disponen datos, usamos postman.com, para trabajar con API, deja hacer en python desde una interfaz graficas, hay distintos metodos, parchar, poner, pedir, get,"
   ]
  },
  {
   "cell_type": "code",
   "execution_count": 85,
   "metadata": {},
   "outputs": [
    {
     "name": "stdout",
     "output_type": "stream",
     "text": [
      "<class 'list'>\n",
      "{'userId': 1, 'id': 1, 'title': 'sunt aut facere repellat provident occaecati excepturi optio reprehenderit', 'body': 'quia et suscipit\\nsuscipit recusandae consequuntur expedita et cum\\nreprehenderit molestiae ut ut quas totam\\nnostrum rerum est autem sunt rem eveniet architecto'}\n"
     ]
    }
   ],
   "source": [
    "import json\n",
    "results = json.loads(response.text)\n",
    "print(type(results)) # Veremos que el resultado es una lista\n",
    "print(results[0]) # Mostramos el primer elemento"
   ]
  },
  {
   "cell_type": "code",
   "execution_count": 86,
   "metadata": {},
   "outputs": [
    {
     "name": "stdout",
     "output_type": "stream",
     "text": [
      "1\n",
      "sunt aut facere repellat provident occaecati excepturi optio reprehenderit\n"
     ]
    }
   ],
   "source": [
    "print(results[0][\"userId\"])\n",
    "print(results[0][\"title\"])"
   ]
  },
  {
   "cell_type": "code",
   "execution_count": 87,
   "metadata": {},
   "outputs": [
    {
     "name": "stdout",
     "output_type": "stream",
     "text": [
      "sunt aut facere repellat provident occaecati excepturi optio reprehenderit\n",
      "qui est esse\n",
      "ea molestias quasi exercitationem repellat qui ipsa sit aut\n",
      "eum et est occaecati\n",
      "nesciunt quas odio\n",
      "dolorem eum magni eos aperiam quia\n",
      "magnam facilis autem\n",
      "dolorem dolore est ipsam\n",
      "nesciunt iure omnis dolorem tempora et accusantium\n",
      "optio molestias id quia eum\n",
      "et ea vero quia laudantium autem\n",
      "in quibusdam tempore odit est dolorem\n",
      "dolorum ut in voluptas mollitia et saepe quo animi\n",
      "voluptatem eligendi optio\n",
      "eveniet quod temporibus\n",
      "sint suscipit perspiciatis velit dolorum rerum ipsa laboriosam odio\n",
      "fugit voluptas sed molestias voluptatem provident\n",
      "voluptate et itaque vero tempora molestiae\n",
      "adipisci placeat illum aut reiciendis qui\n",
      "doloribus ad provident suscipit at\n",
      "asperiores ea ipsam voluptatibus modi minima quia sint\n",
      "dolor sint quo a velit explicabo quia nam\n",
      "maxime id vitae nihil numquam\n",
      "autem hic labore sunt dolores incidunt\n",
      "rem alias distinctio quo quis\n",
      "est et quae odit qui non\n",
      "quasi id et eos tenetur aut quo autem\n",
      "delectus ullam et corporis nulla voluptas sequi\n",
      "iusto eius quod necessitatibus culpa ea\n",
      "a quo magni similique perferendis\n",
      "ullam ut quidem id aut vel consequuntur\n",
      "doloremque illum aliquid sunt\n",
      "qui explicabo molestiae dolorem\n",
      "magnam ut rerum iure\n",
      "id nihil consequatur molestias animi provident\n",
      "fuga nam accusamus voluptas reiciendis itaque\n",
      "provident vel ut sit ratione est\n",
      "explicabo et eos deleniti nostrum ab id repellendus\n",
      "eos dolorem iste accusantium est eaque quam\n",
      "enim quo cumque\n",
      "non est facere\n",
      "commodi ullam sint et excepturi error explicabo praesentium voluptas\n",
      "eligendi iste nostrum consequuntur adipisci praesentium sit beatae perferendis\n",
      "optio dolor molestias sit\n",
      "ut numquam possimus omnis eius suscipit laudantium iure\n",
      "aut quo modi neque nostrum ducimus\n",
      "quibusdam cumque rem aut deserunt\n",
      "ut voluptatem illum ea doloribus itaque eos\n",
      "laborum non sunt aut ut assumenda perspiciatis voluptas\n",
      "repellendus qui recusandae incidunt voluptates tenetur qui omnis exercitationem\n",
      "soluta aliquam aperiam consequatur illo quis voluptas\n",
      "qui enim et consequuntur quia animi quis voluptate quibusdam\n",
      "ut quo aut ducimus alias\n",
      "sit asperiores ipsam eveniet odio non quia\n",
      "sit vel voluptatem et non libero\n",
      "qui et at rerum necessitatibus\n",
      "sed ab est est\n",
      "voluptatum itaque dolores nisi et quasi\n",
      "qui commodi dolor at maiores et quis id accusantium\n",
      "consequatur placeat omnis quisquam quia reprehenderit fugit veritatis facere\n",
      "voluptatem doloribus consectetur est ut ducimus\n",
      "beatae enim quia vel\n",
      "voluptas blanditiis repellendus animi ducimus error sapiente et suscipit\n",
      "et fugit quas eum in in aperiam quod\n",
      "consequatur id enim sunt et et\n",
      "repudiandae ea animi iusto\n",
      "aliquid eos sed fuga est maxime repellendus\n",
      "odio quis facere architecto reiciendis optio\n",
      "fugiat quod pariatur odit minima\n",
      "voluptatem laborum magni\n",
      "et iusto veniam et illum aut fuga\n",
      "sint hic doloribus consequatur eos non id\n",
      "consequuntur deleniti eos quia temporibus ab aliquid at\n",
      "enim unde ratione doloribus quas enim ut sit sapiente\n",
      "dignissimos eum dolor ut enim et delectus in\n",
      "doloremque officiis ad et non perferendis\n",
      "necessitatibus quasi exercitationem odio\n",
      "quam voluptatibus rerum veritatis\n",
      "pariatur consequatur quia magnam autem omnis non amet\n",
      "labore in ex et explicabo corporis aut quas\n",
      "tempora rem veritatis voluptas quo dolores vero\n",
      "laudantium voluptate suscipit sunt enim enim\n",
      "odit et voluptates doloribus alias odio et\n",
      "optio ipsam molestias necessitatibus occaecati facilis veritatis dolores aut\n",
      "dolore veritatis porro provident adipisci blanditiis et sunt\n",
      "placeat quia et porro iste\n",
      "nostrum quis quasi placeat\n",
      "sapiente omnis fugit eos\n",
      "sint soluta et vel magnam aut ut sed qui\n",
      "ad iusto omnis odit dolor voluptatibus\n",
      "aut amet sed\n",
      "ratione ex tenetur perferendis\n",
      "beatae soluta recusandae\n",
      "qui qui voluptates illo iste minima\n",
      "id minus libero illum nam ad officiis\n",
      "quaerat velit veniam amet cupiditate aut numquam ut sequi\n",
      "quas fugiat ut perspiciatis vero provident\n",
      "laboriosam dolor voluptates\n",
      "temporibus sit alias delectus eligendi possimus magni\n",
      "at nam consequatur ea labore ea harum\n"
     ]
    }
   ],
   "source": [
    "for post in results:\n",
    "    print(post[\"title\"])"
   ]
  },
  {
   "cell_type": "code",
   "execution_count": 88,
   "metadata": {},
   "outputs": [],
   "source": [
    "import json\n",
    "import requests\n",
    "\n",
    "def request(requested_url):\n",
    "    \n",
    "    headers = {\n",
    "    \"cache-control\": \"no-cache\",\n",
    "    \"Postman-Token\": \"2defb9f3-9b11-499b-be4f-82505a2f8e1a\",\n",
    "    }\n",
    "    response = requests.request(\"GET\", requested_url, headers=headers)\n",
    "    return json.loads(response.text)"
   ]
  },
  {
   "cell_type": "code",
   "execution_count": null,
   "metadata": {},
   "outputs": [
    {
     "data": {
      "text/plain": [
       "[{'userId': 1,\n",
       "  'id': 1,\n",
       "  'title': 'sunt aut facere repellat provident occaecati excepturi optio reprehenderit',\n",
       "  'body': 'quia et suscipit\\nsuscipit recusandae consequuntur expedita et cum\\nreprehenderit molestiae ut ut quas totam\\nnostrum rerum est autem sunt rem eveniet architecto'},\n",
       " {'userId': 1,\n",
       "  'id': 2,\n",
       "  'title': 'qui est esse',\n",
       "  'body': 'est rerum tempore vitae\\nsequi sint nihil reprehenderit dolor beatae ea dolores neque\\nfugiat blanditiis voluptate porro vel nihil molestiae ut reiciendis\\nqui aperiam non debitis possimus qui neque nisi nulla'},\n",
       " {'userId': 1,\n",
       "  'id': 3,\n",
       "  'title': 'ea molestias quasi exercitationem repellat qui ipsa sit aut',\n",
       "  'body': 'et iusto sed quo iure\\nvoluptatem occaecati omnis eligendi aut ad\\nvoluptatem doloribus vel accusantium quis pariatur\\nmolestiae porro eius odio et labore et velit aut'},\n",
       " {'userId': 1,\n",
       "  'id': 4,\n",
       "  'title': 'eum et est occaecati',\n",
       "  'body': 'ullam et saepe reiciendis voluptatem adipisci\\nsit amet autem assumenda provident rerum culpa\\nquis hic commodi nesciunt rem tenetur doloremque ipsam iure\\nquis sunt voluptatem rerum illo velit'},\n",
       " {'userId': 1,\n",
       "  'id': 5,\n",
       "  'title': 'nesciunt quas odio',\n",
       "  'body': 'repudiandae veniam quaerat sunt sed\\nalias aut fugiat sit autem sed est\\nvoluptatem omnis possimus esse voluptatibus quis\\nest aut tenetur dolor neque'},\n",
       " {'userId': 1,\n",
       "  'id': 6,\n",
       "  'title': 'dolorem eum magni eos aperiam quia',\n",
       "  'body': 'ut aspernatur corporis harum nihil quis provident sequi\\nmollitia nobis aliquid molestiae\\nperspiciatis et ea nemo ab reprehenderit accusantium quas\\nvoluptate dolores velit et doloremque molestiae'},\n",
       " {'userId': 1,\n",
       "  'id': 7,\n",
       "  'title': 'magnam facilis autem',\n",
       "  'body': 'dolore placeat quibusdam ea quo vitae\\nmagni quis enim qui quis quo nemo aut saepe\\nquidem repellat excepturi ut quia\\nsunt ut sequi eos ea sed quas'},\n",
       " {'userId': 1,\n",
       "  'id': 8,\n",
       "  'title': 'dolorem dolore est ipsam',\n",
       "  'body': 'dignissimos aperiam dolorem qui eum\\nfacilis quibusdam animi sint suscipit qui sint possimus cum\\nquaerat magni maiores excepturi\\nipsam ut commodi dolor voluptatum modi aut vitae'},\n",
       " {'userId': 1,\n",
       "  'id': 9,\n",
       "  'title': 'nesciunt iure omnis dolorem tempora et accusantium',\n",
       "  'body': 'consectetur animi nesciunt iure dolore\\nenim quia ad\\nveniam autem ut quam aut nobis\\net est aut quod aut provident voluptas autem voluptas'},\n",
       " {'userId': 1,\n",
       "  'id': 10,\n",
       "  'title': 'optio molestias id quia eum',\n",
       "  'body': 'quo et expedita modi cum officia vel magni\\ndoloribus qui repudiandae\\nvero nisi sit\\nquos veniam quod sed accusamus veritatis error'},\n",
       " {'userId': 2,\n",
       "  'id': 11,\n",
       "  'title': 'et ea vero quia laudantium autem',\n",
       "  'body': 'delectus reiciendis molestiae occaecati non minima eveniet qui voluptatibus\\naccusamus in eum beatae sit\\nvel qui neque voluptates ut commodi qui incidunt\\nut animi commodi'},\n",
       " {'userId': 2,\n",
       "  'id': 12,\n",
       "  'title': 'in quibusdam tempore odit est dolorem',\n",
       "  'body': 'itaque id aut magnam\\npraesentium quia et ea odit et ea voluptas et\\nsapiente quia nihil amet occaecati quia id voluptatem\\nincidunt ea est distinctio odio'},\n",
       " {'userId': 2,\n",
       "  'id': 13,\n",
       "  'title': 'dolorum ut in voluptas mollitia et saepe quo animi',\n",
       "  'body': 'aut dicta possimus sint mollitia voluptas commodi quo doloremque\\niste corrupti reiciendis voluptatem eius rerum\\nsit cumque quod eligendi laborum minima\\nperferendis recusandae assumenda consectetur porro architecto ipsum ipsam'},\n",
       " {'userId': 2,\n",
       "  'id': 14,\n",
       "  'title': 'voluptatem eligendi optio',\n",
       "  'body': 'fuga et accusamus dolorum perferendis illo voluptas\\nnon doloremque neque facere\\nad qui dolorum molestiae beatae\\nsed aut voluptas totam sit illum'},\n",
       " {'userId': 2,\n",
       "  'id': 15,\n",
       "  'title': 'eveniet quod temporibus',\n",
       "  'body': 'reprehenderit quos placeat\\nvelit minima officia dolores impedit repudiandae molestiae nam\\nvoluptas recusandae quis delectus\\nofficiis harum fugiat vitae'},\n",
       " {'userId': 2,\n",
       "  'id': 16,\n",
       "  'title': 'sint suscipit perspiciatis velit dolorum rerum ipsa laboriosam odio',\n",
       "  'body': 'suscipit nam nisi quo aperiam aut\\nasperiores eos fugit maiores voluptatibus quia\\nvoluptatem quis ullam qui in alias quia est\\nconsequatur magni mollitia accusamus ea nisi voluptate dicta'},\n",
       " {'userId': 2,\n",
       "  'id': 17,\n",
       "  'title': 'fugit voluptas sed molestias voluptatem provident',\n",
       "  'body': 'eos voluptas et aut odit natus earum\\naspernatur fuga molestiae ullam\\ndeserunt ratione qui eos\\nqui nihil ratione nemo velit ut aut id quo'},\n",
       " {'userId': 2,\n",
       "  'id': 18,\n",
       "  'title': 'voluptate et itaque vero tempora molestiae',\n",
       "  'body': 'eveniet quo quis\\nlaborum totam consequatur non dolor\\nut et est repudiandae\\nest voluptatem vel debitis et magnam'},\n",
       " {'userId': 2,\n",
       "  'id': 19,\n",
       "  'title': 'adipisci placeat illum aut reiciendis qui',\n",
       "  'body': 'illum quis cupiditate provident sit magnam\\nea sed aut omnis\\nveniam maiores ullam consequatur atque\\nadipisci quo iste expedita sit quos voluptas'},\n",
       " {'userId': 2,\n",
       "  'id': 20,\n",
       "  'title': 'doloribus ad provident suscipit at',\n",
       "  'body': 'qui consequuntur ducimus possimus quisquam amet similique\\nsuscipit porro ipsam amet\\neos veritatis officiis exercitationem vel fugit aut necessitatibus totam\\nomnis rerum consequatur expedita quidem cumque explicabo'},\n",
       " {'userId': 3,\n",
       "  'id': 21,\n",
       "  'title': 'asperiores ea ipsam voluptatibus modi minima quia sint',\n",
       "  'body': 'repellat aliquid praesentium dolorem quo\\nsed totam minus non itaque\\nnihil labore molestiae sunt dolor eveniet hic recusandae veniam\\ntempora et tenetur expedita sunt'},\n",
       " {'userId': 3,\n",
       "  'id': 22,\n",
       "  'title': 'dolor sint quo a velit explicabo quia nam',\n",
       "  'body': 'eos qui et ipsum ipsam suscipit aut\\nsed omnis non odio\\nexpedita earum mollitia molestiae aut atque rem suscipit\\nnam impedit esse'},\n",
       " {'userId': 3,\n",
       "  'id': 23,\n",
       "  'title': 'maxime id vitae nihil numquam',\n",
       "  'body': 'veritatis unde neque eligendi\\nquae quod architecto quo neque vitae\\nest illo sit tempora doloremque fugit quod\\net et vel beatae sequi ullam sed tenetur perspiciatis'},\n",
       " {'userId': 3,\n",
       "  'id': 24,\n",
       "  'title': 'autem hic labore sunt dolores incidunt',\n",
       "  'body': 'enim et ex nulla\\nomnis voluptas quia qui\\nvoluptatem consequatur numquam aliquam sunt\\ntotam recusandae id dignissimos aut sed asperiores deserunt'},\n",
       " {'userId': 3,\n",
       "  'id': 25,\n",
       "  'title': 'rem alias distinctio quo quis',\n",
       "  'body': 'ullam consequatur ut\\nomnis quis sit vel consequuntur\\nipsa eligendi ipsum molestiae et omnis error nostrum\\nmolestiae illo tempore quia et distinctio'},\n",
       " {'userId': 3,\n",
       "  'id': 26,\n",
       "  'title': 'est et quae odit qui non',\n",
       "  'body': 'similique esse doloribus nihil accusamus\\nomnis dolorem fuga consequuntur reprehenderit fugit recusandae temporibus\\nperspiciatis cum ut laudantium\\nomnis aut molestiae vel vero'},\n",
       " {'userId': 3,\n",
       "  'id': 27,\n",
       "  'title': 'quasi id et eos tenetur aut quo autem',\n",
       "  'body': 'eum sed dolores ipsam sint possimus debitis occaecati\\ndebitis qui qui et\\nut placeat enim earum aut odit facilis\\nconsequatur suscipit necessitatibus rerum sed inventore temporibus consequatur'},\n",
       " {'userId': 3,\n",
       "  'id': 28,\n",
       "  'title': 'delectus ullam et corporis nulla voluptas sequi',\n",
       "  'body': 'non et quaerat ex quae ad maiores\\nmaiores recusandae totam aut blanditiis mollitia quas illo\\nut voluptatibus voluptatem\\nsimilique nostrum eum'},\n",
       " {'userId': 3,\n",
       "  'id': 29,\n",
       "  'title': 'iusto eius quod necessitatibus culpa ea',\n",
       "  'body': 'odit magnam ut saepe sed non qui\\ntempora atque nihil\\naccusamus illum doloribus illo dolor\\neligendi repudiandae odit magni similique sed cum maiores'},\n",
       " {'userId': 3,\n",
       "  'id': 30,\n",
       "  'title': 'a quo magni similique perferendis',\n",
       "  'body': 'alias dolor cumque\\nimpedit blanditiis non eveniet odio maxime\\nblanditiis amet eius quis tempora quia autem rem\\na provident perspiciatis quia'},\n",
       " {'userId': 4,\n",
       "  'id': 31,\n",
       "  'title': 'ullam ut quidem id aut vel consequuntur',\n",
       "  'body': 'debitis eius sed quibusdam non quis consectetur vitae\\nimpedit ut qui consequatur sed aut in\\nquidem sit nostrum et maiores adipisci atque\\nquaerat voluptatem adipisci repudiandae'},\n",
       " {'userId': 4,\n",
       "  'id': 32,\n",
       "  'title': 'doloremque illum aliquid sunt',\n",
       "  'body': 'deserunt eos nobis asperiores et hic\\nest debitis repellat molestiae optio\\nnihil ratione ut eos beatae quibusdam distinctio maiores\\nearum voluptates et aut adipisci ea maiores voluptas maxime'},\n",
       " {'userId': 4,\n",
       "  'id': 33,\n",
       "  'title': 'qui explicabo molestiae dolorem',\n",
       "  'body': 'rerum ut et numquam laborum odit est sit\\nid qui sint in\\nquasi tenetur tempore aperiam et quaerat qui in\\nrerum officiis sequi cumque quod'},\n",
       " {'userId': 4,\n",
       "  'id': 34,\n",
       "  'title': 'magnam ut rerum iure',\n",
       "  'body': 'ea velit perferendis earum ut voluptatem voluptate itaque iusto\\ntotam pariatur in\\nnemo voluptatem voluptatem autem magni tempora minima in\\nest distinctio qui assumenda accusamus dignissimos officia nesciunt nobis'},\n",
       " {'userId': 4,\n",
       "  'id': 35,\n",
       "  'title': 'id nihil consequatur molestias animi provident',\n",
       "  'body': 'nisi error delectus possimus ut eligendi vitae\\nplaceat eos harum cupiditate facilis reprehenderit voluptatem beatae\\nmodi ducimus quo illum voluptas eligendi\\net nobis quia fugit'},\n",
       " {'userId': 4,\n",
       "  'id': 36,\n",
       "  'title': 'fuga nam accusamus voluptas reiciendis itaque',\n",
       "  'body': 'ad mollitia et omnis minus architecto odit\\nvoluptas doloremque maxime aut non ipsa qui alias veniam\\nblanditiis culpa aut quia nihil cumque facere et occaecati\\nqui aspernatur quia eaque ut aperiam inventore'},\n",
       " {'userId': 4,\n",
       "  'id': 37,\n",
       "  'title': 'provident vel ut sit ratione est',\n",
       "  'body': 'debitis et eaque non officia sed nesciunt pariatur vel\\nvoluptatem iste vero et ea\\nnumquam aut expedita ipsum nulla in\\nvoluptates omnis consequatur aut enim officiis in quam qui'},\n",
       " {'userId': 4,\n",
       "  'id': 38,\n",
       "  'title': 'explicabo et eos deleniti nostrum ab id repellendus',\n",
       "  'body': 'animi esse sit aut sit nesciunt assumenda eum voluptas\\nquia voluptatibus provident quia necessitatibus ea\\nrerum repudiandae quia voluptatem delectus fugit aut id quia\\nratione optio eos iusto veniam iure'},\n",
       " {'userId': 4,\n",
       "  'id': 39,\n",
       "  'title': 'eos dolorem iste accusantium est eaque quam',\n",
       "  'body': 'corporis rerum ducimus vel eum accusantium\\nmaxime aspernatur a porro possimus iste omnis\\nest in deleniti asperiores fuga aut\\nvoluptas sapiente vel dolore minus voluptatem incidunt ex'},\n",
       " {'userId': 4,\n",
       "  'id': 40,\n",
       "  'title': 'enim quo cumque',\n",
       "  'body': 'ut voluptatum aliquid illo tenetur nemo sequi quo facilis\\nipsum rem optio mollitia quas\\nvoluptatem eum voluptas qui\\nunde omnis voluptatem iure quasi maxime voluptas nam'},\n",
       " {'userId': 5,\n",
       "  'id': 41,\n",
       "  'title': 'non est facere',\n",
       "  'body': 'molestias id nostrum\\nexcepturi molestiae dolore omnis repellendus quaerat saepe\\nconsectetur iste quaerat tenetur asperiores accusamus ex ut\\nnam quidem est ducimus sunt debitis saepe'},\n",
       " {'userId': 5,\n",
       "  'id': 42,\n",
       "  'title': 'commodi ullam sint et excepturi error explicabo praesentium voluptas',\n",
       "  'body': 'odio fugit voluptatum ducimus earum autem est incidunt voluptatem\\nodit reiciendis aliquam sunt sequi nulla dolorem\\nnon facere repellendus voluptates quia\\nratione harum vitae ut'},\n",
       " {'userId': 5,\n",
       "  'id': 43,\n",
       "  'title': 'eligendi iste nostrum consequuntur adipisci praesentium sit beatae perferendis',\n",
       "  'body': 'similique fugit est\\nillum et dolorum harum et voluptate eaque quidem\\nexercitationem quos nam commodi possimus cum odio nihil nulla\\ndolorum exercitationem magnam ex et a et distinctio debitis'},\n",
       " {'userId': 5,\n",
       "  'id': 44,\n",
       "  'title': 'optio dolor molestias sit',\n",
       "  'body': 'temporibus est consectetur dolore\\net libero debitis vel velit laboriosam quia\\nipsum quibusdam qui itaque fuga rem aut\\nea et iure quam sed maxime ut distinctio quae'},\n",
       " {'userId': 5,\n",
       "  'id': 45,\n",
       "  'title': 'ut numquam possimus omnis eius suscipit laudantium iure',\n",
       "  'body': 'est natus reiciendis nihil possimus aut provident\\nex et dolor\\nrepellat pariatur est\\nnobis rerum repellendus dolorem autem'},\n",
       " {'userId': 5,\n",
       "  'id': 46,\n",
       "  'title': 'aut quo modi neque nostrum ducimus',\n",
       "  'body': 'voluptatem quisquam iste\\nvoluptatibus natus officiis facilis dolorem\\nquis quas ipsam\\nvel et voluptatum in aliquid'},\n",
       " {'userId': 5,\n",
       "  'id': 47,\n",
       "  'title': 'quibusdam cumque rem aut deserunt',\n",
       "  'body': 'voluptatem assumenda ut qui ut cupiditate aut impedit veniam\\noccaecati nemo illum voluptatem laudantium\\nmolestiae beatae rerum ea iure soluta nostrum\\neligendi et voluptate'},\n",
       " {'userId': 5,\n",
       "  'id': 48,\n",
       "  'title': 'ut voluptatem illum ea doloribus itaque eos',\n",
       "  'body': 'voluptates quo voluptatem facilis iure occaecati\\nvel assumenda rerum officia et\\nillum perspiciatis ab deleniti\\nlaudantium repellat ad ut et autem reprehenderit'},\n",
       " {'userId': 5,\n",
       "  'id': 49,\n",
       "  'title': 'laborum non sunt aut ut assumenda perspiciatis voluptas',\n",
       "  'body': 'inventore ab sint\\nnatus fugit id nulla sequi architecto nihil quaerat\\neos tenetur in in eum veritatis non\\nquibusdam officiis aspernatur cumque aut commodi aut'},\n",
       " {'userId': 5,\n",
       "  'id': 50,\n",
       "  'title': 'repellendus qui recusandae incidunt voluptates tenetur qui omnis exercitationem',\n",
       "  'body': 'error suscipit maxime adipisci consequuntur recusandae\\nvoluptas eligendi et est et voluptates\\nquia distinctio ab amet quaerat molestiae et vitae\\nadipisci impedit sequi nesciunt quis consectetur'},\n",
       " {'userId': 6,\n",
       "  'id': 51,\n",
       "  'title': 'soluta aliquam aperiam consequatur illo quis voluptas',\n",
       "  'body': 'sunt dolores aut doloribus\\ndolore doloribus voluptates tempora et\\ndoloremque et quo\\ncum asperiores sit consectetur dolorem'},\n",
       " {'userId': 6,\n",
       "  'id': 52,\n",
       "  'title': 'qui enim et consequuntur quia animi quis voluptate quibusdam',\n",
       "  'body': 'iusto est quibusdam fuga quas quaerat molestias\\na enim ut sit accusamus enim\\ntemporibus iusto accusantium provident architecto\\nsoluta esse reprehenderit qui laborum'},\n",
       " {'userId': 6,\n",
       "  'id': 53,\n",
       "  'title': 'ut quo aut ducimus alias',\n",
       "  'body': 'minima harum praesentium eum rerum illo dolore\\nquasi exercitationem rerum nam\\nporro quis neque quo\\nconsequatur minus dolor quidem veritatis sunt non explicabo similique'},\n",
       " {'userId': 6,\n",
       "  'id': 54,\n",
       "  'title': 'sit asperiores ipsam eveniet odio non quia',\n",
       "  'body': 'totam corporis dignissimos\\nvitae dolorem ut occaecati accusamus\\nex velit deserunt\\net exercitationem vero incidunt corrupti mollitia'},\n",
       " {'userId': 6,\n",
       "  'id': 55,\n",
       "  'title': 'sit vel voluptatem et non libero',\n",
       "  'body': 'debitis excepturi ea perferendis harum libero optio\\neos accusamus cum fuga ut sapiente repudiandae\\net ut incidunt omnis molestiae\\nnihil ut eum odit'},\n",
       " {'userId': 6,\n",
       "  'id': 56,\n",
       "  'title': 'qui et at rerum necessitatibus',\n",
       "  'body': 'aut est omnis dolores\\nneque rerum quod ea rerum velit pariatur beatae excepturi\\net provident voluptas corrupti\\ncorporis harum reprehenderit dolores eligendi'},\n",
       " {'userId': 6,\n",
       "  'id': 57,\n",
       "  'title': 'sed ab est est',\n",
       "  'body': 'at pariatur consequuntur earum quidem\\nquo est laudantium soluta voluptatem\\nqui ullam et est\\net cum voluptas voluptatum repellat est'},\n",
       " {'userId': 6,\n",
       "  'id': 58,\n",
       "  'title': 'voluptatum itaque dolores nisi et quasi',\n",
       "  'body': 'veniam voluptatum quae adipisci id\\net id quia eos ad et dolorem\\naliquam quo nisi sunt eos impedit error\\nad similique veniam'},\n",
       " {'userId': 6,\n",
       "  'id': 59,\n",
       "  'title': 'qui commodi dolor at maiores et quis id accusantium',\n",
       "  'body': 'perspiciatis et quam ea autem temporibus non voluptatibus qui\\nbeatae a earum officia nesciunt dolores suscipit voluptas et\\nanimi doloribus cum rerum quas et magni\\net hic ut ut commodi expedita sunt'},\n",
       " {'userId': 6,\n",
       "  'id': 60,\n",
       "  'title': 'consequatur placeat omnis quisquam quia reprehenderit fugit veritatis facere',\n",
       "  'body': 'asperiores sunt ab assumenda cumque modi velit\\nqui esse omnis\\nvoluptate et fuga perferendis voluptas\\nillo ratione amet aut et omnis'},\n",
       " {'userId': 7,\n",
       "  'id': 61,\n",
       "  'title': 'voluptatem doloribus consectetur est ut ducimus',\n",
       "  'body': 'ab nemo optio odio\\ndelectus tenetur corporis similique nobis repellendus rerum omnis facilis\\nvero blanditiis debitis in nesciunt doloribus dicta dolores\\nmagnam minus velit'},\n",
       " {'userId': 7,\n",
       "  'id': 62,\n",
       "  'title': 'beatae enim quia vel',\n",
       "  'body': 'enim aspernatur illo distinctio quae praesentium\\nbeatae alias amet delectus qui voluptate distinctio\\nodit sint accusantium autem omnis\\nquo molestiae omnis ea eveniet optio'},\n",
       " {'userId': 7,\n",
       "  'id': 63,\n",
       "  'title': 'voluptas blanditiis repellendus animi ducimus error sapiente et suscipit',\n",
       "  'body': 'enim adipisci aspernatur nemo\\nnumquam omnis facere dolorem dolor ex quis temporibus incidunt\\nab delectus culpa quo reprehenderit blanditiis asperiores\\naccusantium ut quam in voluptatibus voluptas ipsam dicta'},\n",
       " {'userId': 7,\n",
       "  'id': 64,\n",
       "  'title': 'et fugit quas eum in in aperiam quod',\n",
       "  'body': 'id velit blanditiis\\neum ea voluptatem\\nmolestiae sint occaecati est eos perspiciatis\\nincidunt a error provident eaque aut aut qui'},\n",
       " {'userId': 7,\n",
       "  'id': 65,\n",
       "  'title': 'consequatur id enim sunt et et',\n",
       "  'body': 'voluptatibus ex esse\\nsint explicabo est aliquid cumque adipisci fuga repellat labore\\nmolestiae corrupti ex saepe at asperiores et perferendis\\nnatus id esse incidunt pariatur'},\n",
       " {'userId': 7,\n",
       "  'id': 66,\n",
       "  'title': 'repudiandae ea animi iusto',\n",
       "  'body': 'officia veritatis tenetur vero qui itaque\\nsint non ratione\\nsed et ut asperiores iusto eos molestiae nostrum\\nveritatis quibusdam et nemo iusto saepe'},\n",
       " {'userId': 7,\n",
       "  'id': 67,\n",
       "  'title': 'aliquid eos sed fuga est maxime repellendus',\n",
       "  'body': 'reprehenderit id nostrum\\nvoluptas doloremque pariatur sint et accusantium quia quod aspernatur\\net fugiat amet\\nnon sapiente et consequatur necessitatibus molestiae'},\n",
       " {'userId': 7,\n",
       "  'id': 68,\n",
       "  'title': 'odio quis facere architecto reiciendis optio',\n",
       "  'body': 'magnam molestiae perferendis quisquam\\nqui cum reiciendis\\nquaerat animi amet hic inventore\\nea quia deleniti quidem saepe porro velit'},\n",
       " {'userId': 7,\n",
       "  'id': 69,\n",
       "  'title': 'fugiat quod pariatur odit minima',\n",
       "  'body': 'officiis error culpa consequatur modi asperiores et\\ndolorum assumenda voluptas et vel qui aut vel rerum\\nvoluptatum quisquam perspiciatis quia rerum consequatur totam quas\\nsequi commodi repudiandae asperiores et saepe a'},\n",
       " {'userId': 7,\n",
       "  'id': 70,\n",
       "  'title': 'voluptatem laborum magni',\n",
       "  'body': 'sunt repellendus quae\\nest asperiores aut deleniti esse accusamus repellendus quia aut\\nquia dolorem unde\\neum tempora esse dolore'},\n",
       " {'userId': 8,\n",
       "  'id': 71,\n",
       "  'title': 'et iusto veniam et illum aut fuga',\n",
       "  'body': 'occaecati a doloribus\\niste saepe consectetur placeat eum voluptate dolorem et\\nqui quo quia voluptas\\nrerum ut id enim velit est perferendis'},\n",
       " {'userId': 8,\n",
       "  'id': 72,\n",
       "  'title': 'sint hic doloribus consequatur eos non id',\n",
       "  'body': 'quam occaecati qui deleniti consectetur\\nconsequatur aut facere quas exercitationem aliquam hic voluptas\\nneque id sunt ut aut accusamus\\nsunt consectetur expedita inventore velit'},\n",
       " {'userId': 8,\n",
       "  'id': 73,\n",
       "  'title': 'consequuntur deleniti eos quia temporibus ab aliquid at',\n",
       "  'body': 'voluptatem cumque tenetur consequatur expedita ipsum nemo quia explicabo\\naut eum minima consequatur\\ntempore cumque quae est et\\net in consequuntur voluptatem voluptates aut'},\n",
       " {'userId': 8,\n",
       "  'id': 74,\n",
       "  'title': 'enim unde ratione doloribus quas enim ut sit sapiente',\n",
       "  'body': 'odit qui et et necessitatibus sint veniam\\nmollitia amet doloremque molestiae commodi similique magnam et quam\\nblanditiis est itaque\\nquo et tenetur ratione occaecati molestiae tempora'},\n",
       " {'userId': 8,\n",
       "  'id': 75,\n",
       "  'title': 'dignissimos eum dolor ut enim et delectus in',\n",
       "  'body': 'commodi non non omnis et voluptas sit\\nautem aut nobis magnam et sapiente voluptatem\\net laborum repellat qui delectus facilis temporibus\\nrerum amet et nemo voluptate expedita adipisci error dolorem'},\n",
       " {'userId': 8,\n",
       "  'id': 76,\n",
       "  'title': 'doloremque officiis ad et non perferendis',\n",
       "  'body': 'ut animi facere\\ntotam iusto tempore\\nmolestiae eum aut et dolorem aperiam\\nquaerat recusandae totam odio'},\n",
       " {'userId': 8,\n",
       "  'id': 77,\n",
       "  'title': 'necessitatibus quasi exercitationem odio',\n",
       "  'body': 'modi ut in nulla repudiandae dolorum nostrum eos\\naut consequatur omnis\\nut incidunt est omnis iste et quam\\nvoluptates sapiente aliquam asperiores nobis amet corrupti repudiandae provident'},\n",
       " {'userId': 8,\n",
       "  'id': 78,\n",
       "  'title': 'quam voluptatibus rerum veritatis',\n",
       "  'body': 'nobis facilis odit tempore cupiditate quia\\nassumenda doloribus rerum qui ea\\nillum et qui totam\\naut veniam repellendus'},\n",
       " {'userId': 8,\n",
       "  'id': 79,\n",
       "  'title': 'pariatur consequatur quia magnam autem omnis non amet',\n",
       "  'body': 'libero accusantium et et facere incidunt sit dolorem\\nnon excepturi qui quia sed laudantium\\nquisquam molestiae ducimus est\\nofficiis esse molestiae iste et quos'},\n",
       " {'userId': 8,\n",
       "  'id': 80,\n",
       "  'title': 'labore in ex et explicabo corporis aut quas',\n",
       "  'body': 'ex quod dolorem ea eum iure qui provident amet\\nquia qui facere excepturi et repudiandae\\nasperiores molestias provident\\nminus incidunt vero fugit rerum sint sunt excepturi provident'},\n",
       " {'userId': 9,\n",
       "  'id': 81,\n",
       "  'title': 'tempora rem veritatis voluptas quo dolores vero',\n",
       "  'body': 'facere qui nesciunt est voluptatum voluptatem nisi\\nsequi eligendi necessitatibus ea at rerum itaque\\nharum non ratione velit laboriosam quis consequuntur\\nex officiis minima doloremque voluptas ut aut'},\n",
       " {'userId': 9,\n",
       "  'id': 82,\n",
       "  'title': 'laudantium voluptate suscipit sunt enim enim',\n",
       "  'body': 'ut libero sit aut totam inventore sunt\\nporro sint qui sunt molestiae\\nconsequatur cupiditate qui iste ducimus adipisci\\ndolor enim assumenda soluta laboriosam amet iste delectus hic'},\n",
       " {'userId': 9,\n",
       "  'id': 83,\n",
       "  'title': 'odit et voluptates doloribus alias odio et',\n",
       "  'body': 'est molestiae facilis quis tempora numquam nihil qui\\nvoluptate sapiente consequatur est qui\\nnecessitatibus autem aut ipsa aperiam modi dolore numquam\\nreprehenderit eius rem quibusdam'},\n",
       " {'userId': 9,\n",
       "  'id': 84,\n",
       "  'title': 'optio ipsam molestias necessitatibus occaecati facilis veritatis dolores aut',\n",
       "  'body': 'sint molestiae magni a et quos\\neaque et quasi\\nut rerum debitis similique veniam\\nrecusandae dignissimos dolor incidunt consequatur odio'},\n",
       " {'userId': 9,\n",
       "  'id': 85,\n",
       "  'title': 'dolore veritatis porro provident adipisci blanditiis et sunt',\n",
       "  'body': 'similique sed nisi voluptas iusto omnis\\nmollitia et quo\\nassumenda suscipit officia magnam sint sed tempora\\nenim provident pariatur praesentium atque animi amet ratione'},\n",
       " {'userId': 9,\n",
       "  'id': 86,\n",
       "  'title': 'placeat quia et porro iste',\n",
       "  'body': 'quasi excepturi consequatur iste autem temporibus sed molestiae beatae\\net quaerat et esse ut\\nvoluptatem occaecati et vel explicabo autem\\nasperiores pariatur deserunt optio'},\n",
       " {'userId': 9,\n",
       "  'id': 87,\n",
       "  'title': 'nostrum quis quasi placeat',\n",
       "  'body': 'eos et molestiae\\nnesciunt ut a\\ndolores perspiciatis repellendus repellat aliquid\\nmagnam sint rem ipsum est'},\n",
       " {'userId': 9,\n",
       "  'id': 88,\n",
       "  'title': 'sapiente omnis fugit eos',\n",
       "  'body': 'consequatur omnis est praesentium\\nducimus non iste\\nneque hic deserunt\\nvoluptatibus veniam cum et rerum sed'},\n",
       " {'userId': 9,\n",
       "  'id': 89,\n",
       "  'title': 'sint soluta et vel magnam aut ut sed qui',\n",
       "  'body': 'repellat aut aperiam totam temporibus autem et\\narchitecto magnam ut\\nconsequatur qui cupiditate rerum quia soluta dignissimos nihil iure\\ntempore quas est'},\n",
       " {'userId': 9,\n",
       "  'id': 90,\n",
       "  'title': 'ad iusto omnis odit dolor voluptatibus',\n",
       "  'body': 'minus omnis soluta quia\\nqui sed adipisci voluptates illum ipsam voluptatem\\neligendi officia ut in\\neos soluta similique molestias praesentium blanditiis'},\n",
       " {'userId': 10,\n",
       "  'id': 91,\n",
       "  'title': 'aut amet sed',\n",
       "  'body': 'libero voluptate eveniet aperiam sed\\nsunt placeat suscipit molestias\\nsimilique fugit nam natus\\nexpedita consequatur consequatur dolores quia eos et placeat'},\n",
       " {'userId': 10,\n",
       "  'id': 92,\n",
       "  'title': 'ratione ex tenetur perferendis',\n",
       "  'body': 'aut et excepturi dicta laudantium sint rerum nihil\\nlaudantium et at\\na neque minima officia et similique libero et\\ncommodi voluptate qui'},\n",
       " {'userId': 10,\n",
       "  'id': 93,\n",
       "  'title': 'beatae soluta recusandae',\n",
       "  'body': 'dolorem quibusdam ducimus consequuntur dicta aut quo laboriosam\\nvoluptatem quis enim recusandae ut sed sunt\\nnostrum est odit totam\\nsit error sed sunt eveniet provident qui nulla'},\n",
       " {'userId': 10,\n",
       "  'id': 94,\n",
       "  'title': 'qui qui voluptates illo iste minima',\n",
       "  'body': 'aspernatur expedita soluta quo ab ut similique\\nexpedita dolores amet\\nsed temporibus distinctio magnam saepe deleniti\\nomnis facilis nam ipsum natus sint similique omnis'},\n",
       " {'userId': 10,\n",
       "  'id': 95,\n",
       "  'title': 'id minus libero illum nam ad officiis',\n",
       "  'body': 'earum voluptatem facere provident blanditiis velit laboriosam\\npariatur accusamus odio saepe\\ncumque dolor qui a dicta ab doloribus consequatur omnis\\ncorporis cupiditate eaque assumenda ad nesciunt'},\n",
       " {'userId': 10,\n",
       "  'id': 96,\n",
       "  'title': 'quaerat velit veniam amet cupiditate aut numquam ut sequi',\n",
       "  'body': 'in non odio excepturi sint eum\\nlabore voluptates vitae quia qui et\\ninventore itaque rerum\\nveniam non exercitationem delectus aut'},\n",
       " {'userId': 10,\n",
       "  'id': 97,\n",
       "  'title': 'quas fugiat ut perspiciatis vero provident',\n",
       "  'body': 'eum non blanditiis soluta porro quibusdam voluptas\\nvel voluptatem qui placeat dolores qui velit aut\\nvel inventore aut cumque culpa explicabo aliquid at\\nperspiciatis est et voluptatem dignissimos dolor itaque sit nam'},\n",
       " {'userId': 10,\n",
       "  'id': 98,\n",
       "  'title': 'laboriosam dolor voluptates',\n",
       "  'body': 'doloremque ex facilis sit sint culpa\\nsoluta assumenda eligendi non ut eius\\nsequi ducimus vel quasi\\nveritatis est dolores'},\n",
       " {'userId': 10,\n",
       "  'id': 99,\n",
       "  'title': 'temporibus sit alias delectus eligendi possimus magni',\n",
       "  'body': 'quo deleniti praesentium dicta non quod\\naut est molestias\\nmolestias et officia quis nihil\\nitaque dolorem quia'},\n",
       " {'userId': 10,\n",
       "  'id': 100,\n",
       "  'title': 'at nam consequatur ea labore ea harum',\n",
       "  'body': 'cupiditate quo est a modi nesciunt soluta\\nipsa voluptas error itaque dicta in\\nautem qui minus magnam et distinctio eum\\naccusamus ratione error aut'}]"
      ]
     },
     "execution_count": 91,
     "metadata": {},
     "output_type": "execute_result"
    }
   ],
   "source": [
    "request('http://jsonplaceholder.typicode.com/posts')"
   ]
  },
  {
   "cell_type": "code",
   "execution_count": 92,
   "metadata": {},
   "outputs": [
    {
     "data": {
      "text/plain": [
       "[{'albumId': 1,\n",
       "  'id': 1,\n",
       "  'title': 'accusamus beatae ad facilis cum similique qui sunt',\n",
       "  'url': 'https://via.placeholder.com/600/92c952',\n",
       "  'thumbnailUrl': 'https://via.placeholder.com/150/92c952'},\n",
       " {'albumId': 1,\n",
       "  'id': 2,\n",
       "  'title': 'reprehenderit est deserunt velit ipsam',\n",
       "  'url': 'https://via.placeholder.com/600/771796',\n",
       "  'thumbnailUrl': 'https://via.placeholder.com/150/771796'},\n",
       " {'albumId': 1,\n",
       "  'id': 3,\n",
       "  'title': 'officia porro iure quia iusto qui ipsa ut modi',\n",
       "  'url': 'https://via.placeholder.com/600/24f355',\n",
       "  'thumbnailUrl': 'https://via.placeholder.com/150/24f355'},\n",
       " {'albumId': 1,\n",
       "  'id': 4,\n",
       "  'title': 'culpa odio esse rerum omnis laboriosam voluptate repudiandae',\n",
       "  'url': 'https://via.placeholder.com/600/d32776',\n",
       "  'thumbnailUrl': 'https://via.placeholder.com/150/d32776'},\n",
       " {'albumId': 1,\n",
       "  'id': 5,\n",
       "  'title': 'natus nisi omnis corporis facere molestiae rerum in',\n",
       "  'url': 'https://via.placeholder.com/600/f66b97',\n",
       "  'thumbnailUrl': 'https://via.placeholder.com/150/f66b97'},\n",
       " {'albumId': 1,\n",
       "  'id': 6,\n",
       "  'title': 'accusamus ea aliquid et amet sequi nemo',\n",
       "  'url': 'https://via.placeholder.com/600/56a8c2',\n",
       "  'thumbnailUrl': 'https://via.placeholder.com/150/56a8c2'},\n",
       " {'albumId': 1,\n",
       "  'id': 7,\n",
       "  'title': 'officia delectus consequatur vero aut veniam explicabo molestias',\n",
       "  'url': 'https://via.placeholder.com/600/b0f7cc',\n",
       "  'thumbnailUrl': 'https://via.placeholder.com/150/b0f7cc'},\n",
       " {'albumId': 1,\n",
       "  'id': 8,\n",
       "  'title': 'aut porro officiis laborum odit ea laudantium corporis',\n",
       "  'url': 'https://via.placeholder.com/600/54176f',\n",
       "  'thumbnailUrl': 'https://via.placeholder.com/150/54176f'},\n",
       " {'albumId': 1,\n",
       "  'id': 9,\n",
       "  'title': 'qui eius qui autem sed',\n",
       "  'url': 'https://via.placeholder.com/600/51aa97',\n",
       "  'thumbnailUrl': 'https://via.placeholder.com/150/51aa97'},\n",
       " {'albumId': 1,\n",
       "  'id': 10,\n",
       "  'title': 'beatae et provident et ut vel',\n",
       "  'url': 'https://via.placeholder.com/600/810b14',\n",
       "  'thumbnailUrl': 'https://via.placeholder.com/150/810b14'}]"
      ]
     },
     "execution_count": 92,
     "metadata": {},
     "output_type": "execute_result"
    }
   ],
   "source": [
    "data = request('https://jsonplaceholder.typicode.com/photos')[0:10] # Tomemos solo 10\n",
    "data"
   ]
  },
  {
   "cell_type": "markdown",
   "metadata": {},
   "source": [
    "# Desafío API"
   ]
  },
  {
   "cell_type": "markdown",
   "metadata": {},
   "source": [
    "- Para este desafío, se debe usar la API de pruebas de reqres , disponible en [https://reqres.in/](https://reqres.in/)\n",
    "- Esta API no requiere autenticación, y su único recurso es users .\n",
    "- Todas las solicitudes se hacen a [https://reqres.in/api/users](https://reqres.in/api/users).\n",
    "- Puede utilizar el código entregado por Postman.\n",
    "- Se considerará para la evaluación que las respuestas de la API sean exitosas."
   ]
  },
  {
   "cell_type": "markdown",
   "metadata": {},
   "source": [
    "## Desafío 1\n",
    "Crear el programa `fake_request.py` , que contenga la función `request`. Esta función debe:\n",
    "- Recibir como parámetro obligatorio un `method`, que será el verbo a utilizar en la request\n",
    "- Recibir como parámetro obligatorio una `url`, que será la url a usar en la request\n",
    "- Recibir como parámetro opcional un `payload`(por defecto string vacío), que será la data a utilizar en la request\n",
    "- La función debe realizar una solicitud a la api con la URL, el verbo, y el payload indicado, y retornar la\n",
    "respuesta obtenida:\n",
    "    - Para los casos de `GET`, `POST` y `PUT`, la respuesta exitosa entrega un json y un código. En estos casos, debe retornar el json como diccionario de Python.\n",
    "    - Para el caso de `DELETE`, la respuesta exitosa solo entrega el código de respuesta. En este caso, debe retornar el código de respuesta.\n"
   ]
  },
  {
   "cell_type": "markdown",
   "metadata": {},
   "source": [
    "## Desafío 2\n",
    "\n",
    "Utilice la función del ejercicio 1 para listar los usuarios, e imprima el retorno en pantalla (por defecto mostrará 3)\n"
   ]
  },
  {
   "cell_type": "markdown",
   "metadata": {},
   "source": [
    "## Desafío 3\n",
    "Utilice la función del ejercicio 1 para crear un usuario, e imprima el retorno en pantalla\n"
   ]
  },
  {
   "cell_type": "markdown",
   "metadata": {},
   "source": [
    "## Desafío 4\n",
    "Utilice la función del ejercicio 1 para actualizar un usuario, e imprima el retorno en pantalla\n"
   ]
  },
  {
   "cell_type": "markdown",
   "metadata": {},
   "source": [
    "## Desafío 5\n",
    "Utilice la función del ejercicio 1 para eliminar un usuario, e imprima el retorno en pantalla"
   ]
  }
 ],
 "metadata": {
  "kernelspec": {
   "display_name": "mec_fluit",
   "language": "python",
   "name": "python3"
  },
  "language_info": {
   "codemirror_mode": {
    "name": "ipython",
    "version": 3
   },
   "file_extension": ".py",
   "mimetype": "text/x-python",
   "name": "python",
   "nbconvert_exporter": "python",
   "pygments_lexer": "ipython3",
   "version": "3.12.4"
  }
 },
 "nbformat": 4,
 "nbformat_minor": 2
}
